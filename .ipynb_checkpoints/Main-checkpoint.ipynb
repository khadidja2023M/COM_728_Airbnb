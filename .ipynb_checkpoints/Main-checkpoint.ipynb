{
 "cells": [
  {
   "cell_type": "code",
   "execution_count": 1,
   "id": "9dbfa38f",
   "metadata": {},
   "outputs": [
    {
     "name": "stdout",
     "output_type": "stream",
     "text": [
      "select which menu whoud you like:\n",
      "    \n",
      "    [first]:Retrieve data.\n",
      " \n",
      "    \n",
      "    [second]:Analyse data.\n",
      "\n",
      "    \n",
      "    [third]:visualise data.\n",
      "\n",
      "    \n",
      "    [fourth]:Exit the programme.\n",
      "    \n",
      "your selection: first\n",
      "Enter the file path: Airbnb_UK_2022.csv\n",
      "###########################################################################\n",
      "Operation started: Reading data from file path...\n",
      "\n",
      "select which menu whoud you like:\n",
      "    \n",
      "    [1]   :List name of listing, host name, description, host location, host since by host id.\n",
      " \n",
      "    \n",
      "    [2]   :List host name, property type, price, minimum_nights and maximum_nights by location.\n",
      "\n",
      "    \n",
      "    [3]   :List room type, accommodates, bathrooms, bedroom and beds for a specified property type.\n",
      "\n",
      "    \n",
      "    [4]   :List review scores of cleanliness, checkin, communication and rating by location.\n",
      "                 \n",
      "    \n",
      "    [exit]:Exit the programme.\n",
      "    \n",
      "your selection: 1\n"
     ]
    },
    {
     "ename": "NameError",
     "evalue": "name 'menu_selection' is not defined",
     "output_type": "error",
     "traceback": [
      "\u001b[1;31m---------------------------------------------------------------------------\u001b[0m",
      "\u001b[1;31mNameError\u001b[0m                                 Traceback (most recent call last)",
      "Cell \u001b[1;32mIn[1], line 99\u001b[0m\n\u001b[0;32m     90\u001b[0m             tui\u001b[38;5;241m.\u001b[39merror()\n\u001b[0;32m     96\u001b[0m \u001b[38;5;28;01mif\u001b[39;00m \u001b[38;5;18m__name__\u001b[39m\u001b[38;5;241m==\u001b[39m \u001b[38;5;124m\"\u001b[39m\u001b[38;5;124m__main__\u001b[39m\u001b[38;5;124m\"\u001b[39m:\n\u001b[1;32m---> 99\u001b[0m     \u001b[43mrun\u001b[49m\u001b[43m(\u001b[49m\u001b[43m)\u001b[49m\n",
      "Cell \u001b[1;32mIn[1], line 30\u001b[0m, in \u001b[0;36mrun\u001b[1;34m()\u001b[0m\n\u001b[0;32m     27\u001b[0m \u001b[38;5;28;01mwhile\u001b[39;00m running:\n\u001b[0;32m     29\u001b[0m     retrieve\u001b[38;5;241m.\u001b[39mretrieve_menu()\n\u001b[1;32m---> 30\u001b[0m     \u001b[38;5;28;01mif\u001b[39;00m  \u001b[43mmenu_selection\u001b[49m\u001b[38;5;241m==\u001b[39m\u001b[38;5;241m1\u001b[39m:\n\u001b[0;32m     31\u001b[0m         retrieve\u001b[38;5;241m.\u001b[39mlisting_by_id(data)\n\u001b[0;32m     32\u001b[0m     \u001b[38;5;28;01melif\u001b[39;00m selection\u001b[38;5;241m==\u001b[39m\u001b[38;5;124m'\u001b[39m\u001b[38;5;124m2\u001b[39m\u001b[38;5;124m'\u001b[39m:\n",
      "\u001b[1;31mNameError\u001b[0m: name 'menu_selection' is not defined"
     ]
    }
   ],
   "source": [
    "# Main module \n",
    "\n",
    "import tui\n",
    "import retrieve        \n",
    "import os    \n",
    "import analyse\n",
    "#import plot\n",
    "\n",
    "\n",
    "\n",
    "\n",
    "def run():\n",
    "    running=True\n",
    "    while running:\n",
    "        selection = tui.main_menu()\n",
    "        if  selection== 'first':\n",
    "            #ask the user to enter the file path.\n",
    "            file_path = input(\"Enter the file path: \")\n",
    "            data =[]\n",
    "            #use os to check file path , call the function load data in the process module if the path exist.\n",
    "            if os.path.exists(file_path):\n",
    "                data=retrieve.load_data_csv(file_path)\n",
    "            else: \n",
    "                print('envalid file path')\n",
    "                tui.completed()\n",
    "            running=True\n",
    "            while running:\n",
    "                \n",
    "                retrieve.retrieve_menu()\n",
    "                if  menu_selection==1:\n",
    "                    retrieve.listing_by_id(data)\n",
    "                elif menu_selection=='2':\n",
    "                    retrieve.listing_for_specified_location(data)\n",
    "                elif selection =='3': \n",
    "                    retrieve.listing_by_property_type(data)\n",
    "                elif menu_selection=='4':\n",
    "                    retrieve.listing_by_location(data)\n",
    "                elif menu_selection == 'exit':\n",
    "                    running=False\n",
    "                    break\n",
    "                else:\n",
    "                    tui.error()\n",
    "                    \n",
    "        elif selection=='second':\n",
    "            file_path=data\n",
    "            retrieve.load_data_pandas(file_path)\n",
    "            \n",
    "            running=True\n",
    "            while running:\n",
    "                analyse.analyse_menu()\n",
    "                if menu_selection=='1':\n",
    "                    analyse.popular_amenities(data)\n",
    "                elif menu_selection=='2':\n",
    "                    analyse.average_price_location(data)\n",
    "                elif menu_selection=='3':\n",
    "                    analyse.average_review_location(data)\n",
    "                elif menu_selection=='4':\n",
    "                    analyse.average_price_host_is_superhost(data)\n",
    "                elif menu_selection=='exit':\n",
    "                    running=False\n",
    "                    break\n",
    "                else:\n",
    "                    tui.error()\n",
    "                    \n",
    "        elif selection=='third':        \n",
    "            retrieve.load_data_pandas(data)\n",
    "            running=True\n",
    "            while running:\n",
    "                plot.plot_menu()\n",
    "                if menu_selection=='1':\n",
    "                    plot.number_bedrooms(data)\n",
    "                elif menu_selection=='2':\n",
    "                    plot.number_listing(data)\n",
    "                elif menu_selection=='3':\n",
    "                    plot.relation_accommodates_price(data)\n",
    "                elif menu_selection=='4':\n",
    "                    plot.prices_specified_years(data)\n",
    "                elif menu_selection=='5':\n",
    "                    plot.host_response(data)\n",
    "                elif menu_selection=='exit':\n",
    "                    running=False\n",
    "                    break\n",
    "                else:\n",
    "                    tui.error()\n",
    "                    \n",
    "        elif selection=='exit':  \n",
    "            running=False\n",
    "            break\n",
    "        else:\n",
    "            tui.error()\n",
    "            \n",
    "         \n",
    "   \n",
    "            \n",
    "\n",
    "if __name__== \"__main__\":\n",
    "    \n",
    "\n",
    "    run()\n",
    "\n",
    "\n"
   ]
  },
  {
   "cell_type": "markdown",
   "id": "1dc3025b",
   "metadata": {},
   "source": [
    "Load the data from CSV file using pandas"
   ]
  },
  {
   "cell_type": "code",
   "execution_count": null,
   "id": "2f86f302",
   "metadata": {},
   "outputs": [],
   "source": [
    "import pandas as pd \n",
    "#read csv file using pandas.\n",
    "data=pd.read_csv(\"Airbnb_UK_2022.csv\", header=0)\n",
    "data.head()\n",
    "    "
   ]
  },
  {
   "cell_type": "markdown",
   "id": "e2674f83",
   "metadata": {},
   "source": [
    "Data exploration"
   ]
  },
  {
   "cell_type": "code",
   "execution_count": null,
   "id": "429a766d",
   "metadata": {},
   "outputs": [],
   "source": [
    "#display columns names.\n",
    "data.columns"
   ]
  },
  {
   "cell_type": "code",
   "execution_count": null,
   "id": "db2b9f88",
   "metadata": {},
   "outputs": [],
   "source": [
    " #discover how many columns and rows the data has using shape method.\n",
    "data.shape"
   ]
  },
  {
   "cell_type": "markdown",
   "id": "3e740d81",
   "metadata": {},
   "source": [
    "Identifying the most popular amenities that Airbnb guests are looking for"
   ]
  },
  {
   "cell_type": "code",
   "execution_count": null,
   "id": "6c01bbdb",
   "metadata": {},
   "outputs": [],
   "source": [
    "#First print amenities column to have an idea about the column.\n",
    "data['amenities']"
   ]
  },
  {
   "cell_type": "code",
   "execution_count": null,
   "id": "054298d2",
   "metadata": {},
   "outputs": [],
   "source": [
    "#Use describe on amenities column to find popular amenities (the top).\n",
    "data['amenities'].describe()\n"
   ]
  },
  {
   "cell_type": "code",
   "execution_count": null,
   "id": "046d8e3b",
   "metadata": {},
   "outputs": [],
   "source": [
    "#Use mode function to get just the popular amenities.\n",
    "#the most popular amenities are the ones repeated most which is the mode .\n",
    "popular_amenities=data['amenities'].mode()\n",
    "popular_amenities"
   ]
  },
  {
   "cell_type": "code",
   "execution_count": null,
   "id": "eabd4702",
   "metadata": {},
   "outputs": [],
   "source": [
    "#Use display_amenities function from the tui module to display popular amenities in a list.\n",
    "process.popular_amenities(data)"
   ]
  },
  {
   "cell_type": "markdown",
   "id": "f761e578",
   "metadata": {},
   "source": [
    "Analyse the Average price of stay in each location "
   ]
  },
  {
   "cell_type": "code",
   "execution_count": null,
   "id": "0b322bed",
   "metadata": {},
   "outputs": [],
   "source": [
    "#First display price and host location to get an idea about the columns.\n",
    "price_location=data[['price', 'host_location']]\n",
    "price_location"
   ]
  },
  {
   "cell_type": "code",
   "execution_count": null,
   "id": "e595c865",
   "metadata": {},
   "outputs": [],
   "source": [
    "data.host_location.nunique()"
   ]
  },
  {
   "cell_type": "code",
   "execution_count": null,
   "id": "027156cc",
   "metadata": {},
   "outputs": [],
   "source": [
    "data.host_location.value_counts()"
   ]
  },
  {
   "cell_type": "code",
   "execution_count": null,
   "id": "00e9882f",
   "metadata": {},
   "outputs": [],
   "source": [
    "#Groupeby host location and calculate the average price for each location.\n",
    "average_stay_location=data.groupby(['host_location'])['price'].mean()\n",
    "#Display average price for each location using the function display_average_price from the tui module.\n",
    "process.average_price_location(data)"
   ]
  },
  {
   "cell_type": "code",
   "execution_count": null,
   "id": "5a070e09",
   "metadata": {},
   "outputs": [],
   "source": [
    "#sort the values from to biggest to smallest.\n",
    "sorted_price=data.groupby(['host_location'])['price'].mean().sort_values(ascending=False)\n",
    "sorted_price"
   ]
  },
  {
   "cell_type": "markdown",
   "id": "da4001ac",
   "metadata": {},
   "source": [
    "Analyse the average review scores rating for each location"
   ]
  },
  {
   "cell_type": "code",
   "execution_count": null,
   "id": "8b41e1df",
   "metadata": {},
   "outputs": [],
   "source": [
    "#display host location and review scores values to understand the columns.\n",
    "data[['host_location', 'review_scores_value']]\n"
   ]
  },
  {
   "cell_type": "code",
   "execution_count": null,
   "id": "9d456d1f",
   "metadata": {},
   "outputs": [],
   "source": [
    "#calculate the count of the review scores value\n",
    "data.review_scores_value.value_counts()"
   ]
  },
  {
   "cell_type": "code",
   "execution_count": null,
   "id": "f5b112ca",
   "metadata": {},
   "outputs": [],
   "source": [
    "#Groupby host location and calculate the review scores value for each location.\n",
    "average_review_score=data.groupby(['host_location'])['review_scores_value'].mean()\n",
    "#Display the average review scores for each location using the function display_average_review_location from tui module.\n",
    "process.average_review_location(data)"
   ]
  },
  {
   "cell_type": "markdown",
   "id": "407148e9",
   "metadata": {},
   "source": [
    "Analyse the relation between super host and the price "
   ]
  },
  {
   "cell_type": "code",
   "execution_count": null,
   "id": "e3692250",
   "metadata": {},
   "outputs": [],
   "source": [
    "sorted_score=data.groupby(['host_location'])['review_scores_value'].mean().sort_values(ascending=False)\n",
    "sorted_score"
   ]
  },
  {
   "cell_type": "code",
   "execution_count": null,
   "id": "7c85dcae",
   "metadata": {},
   "outputs": [],
   "source": [
    "#display price and host is superhost column.\n",
    "data[['host_is_superhost', 'price']]"
   ]
  },
  {
   "cell_type": "code",
   "execution_count": null,
   "id": "4304f2cb",
   "metadata": {},
   "outputs": [],
   "source": [
    "#display price and no superhost.\n",
    "not_super_host=data.loc[data.host_is_superhost ==False,['price', 'host_is_superhost']]\n",
    "not_super_host"
   ]
  },
  {
   "cell_type": "code",
   "execution_count": null,
   "id": "98f02d3c",
   "metadata": {},
   "outputs": [],
   "source": [
    "#display price and no superhost.\n",
    "super_host=data.loc[data.host_is_superhost ==True,['price', 'host_is_superhost']]\n",
    "super_host"
   ]
  },
  {
   "cell_type": "code",
   "execution_count": null,
   "id": "ce24ed50",
   "metadata": {},
   "outputs": [],
   "source": [
    "#How many not super_host (the count)\n",
    "number_not_superhost=data.loc[data.host_is_superhost ==False,['host_is_superhost']].count()"
   ]
  },
  {
   "cell_type": "code",
   "execution_count": null,
   "id": "d602e4f4",
   "metadata": {},
   "outputs": [],
   "source": [
    "#How many super_host (the count)\n",
    "number_superhost=data.loc[data.host_is_superhost ==True,['host_is_superhost']].count()"
   ]
  },
  {
   "cell_type": "code",
   "execution_count": null,
   "id": "eedd2d55",
   "metadata": {},
   "outputs": [],
   "source": [
    "#get the average price of superhost and no superhost \n",
    "average_price=data.groupby(['host_is_superhost'])['price'].mean()\n",
    "#display the average price for not superhost and superhost by calling a function in the tui module.\n",
    "process.average_price_host_is_superhost(data)\n"
   ]
  },
  {
   "cell_type": "markdown",
   "id": "e6cfe39d",
   "metadata": {},
   "source": [
    "Display the proportion of number of bedrooms of Airbnb listing using pie chart"
   ]
  },
  {
   "cell_type": "code",
   "execution_count": null,
   "id": "dd62e06d",
   "metadata": {},
   "outputs": [],
   "source": [
    "data['bedrooms']"
   ]
  },
  {
   "cell_type": "code",
   "execution_count": null,
   "id": "c1377ba1",
   "metadata": {},
   "outputs": [],
   "source": [
    "data.groupby('bedrooms').size().sort_values(ascending=False)"
   ]
  },
  {
   "cell_type": "code",
   "execution_count": null,
   "id": "36c48437",
   "metadata": {},
   "outputs": [],
   "source": [
    "bedrooms_group=data.groupby('bedrooms').size()"
   ]
  },
  {
   "cell_type": "code",
   "execution_count": null,
   "id": "23ff3ef9",
   "metadata": {},
   "outputs": [],
   "source": [
    "bedrooms_group_list =bedrooms_group.index.tolist()\n",
    "bedrooms_group_list"
   ]
  },
  {
   "cell_type": "code",
   "execution_count": null,
   "id": "96fd17f6",
   "metadata": {},
   "outputs": [],
   "source": [
    "bedrooms_list =bedrooms_group.tolist()\n",
    "bedrooms_list"
   ]
  },
  {
   "cell_type": "code",
   "execution_count": null,
   "id": "2d0b1967",
   "metadata": {},
   "outputs": [],
   "source": [
    "fig = plt.figure(figsize=(10,6))\n",
    "\n",
    "plt.pie(bedrooms_list ,labels=bedrooms_group_list, autopct='%1.1f%%')\n",
    "plt.title(\"The proportion of number of bedrooms of Airbnb\")\n",
    "\n",
    "plt.legend(loc=\"best\",bbox_to_anchor=(1.2,1))\n",
    "\n",
    "plt.show()"
   ]
  },
  {
   "cell_type": "markdown",
   "id": "7d4a15b8",
   "metadata": {},
   "source": [
    "Display the number of listings for each room type using bar chart\t"
   ]
  },
  {
   "cell_type": "code",
   "execution_count": null,
   "id": "8dec2e4e",
   "metadata": {},
   "outputs": [],
   "source": [
    "data['room_type']"
   ]
  },
  {
   "cell_type": "code",
   "execution_count": null,
   "id": "5e8d72c2",
   "metadata": {},
   "outputs": [],
   "source": [
    "listing_names=data['name']\n",
    "listing_names"
   ]
  },
  {
   "cell_type": "code",
   "execution_count": null,
   "id": "81c79af4",
   "metadata": {},
   "outputs": [],
   "source": [
    "listing_room_type = data.groupby('room_type')['name'].count()\n",
    "listing_room_type"
   ]
  },
  {
   "cell_type": "code",
   "execution_count": null,
   "id": "9301773d",
   "metadata": {},
   "outputs": [],
   "source": [
    "room_type_group=data.groupby('room_type').size()\n",
    "x=room_type_group.index.tolist()\n",
    "x"
   ]
  },
  {
   "cell_type": "code",
   "execution_count": null,
   "id": "8e29d646",
   "metadata": {},
   "outputs": [],
   "source": [
    "y=listing_room_type.tolist()\n",
    "y"
   ]
  },
  {
   "cell_type": "code",
   "execution_count": null,
   "id": "c7e298c4",
   "metadata": {},
   "outputs": [],
   "source": [
    "x=room_type_group.index.tolist()\n",
    "y=listing_room_type.tolist()\n",
    "\n",
    "\n",
    "fig = plt.figure() \n",
    "\n",
    "\n",
    "plt.bar(x,y, label=\"Number of data\")# plotting the graph\n",
    "\n",
    "plt.xlabel(\"Room type\") # create a label for x-axis\n",
    "plt.ylabel(\"The number of listing\") # create a label for y-axis\n",
    "\n",
    "plt.title(\"the number of listings for each room type\") # create a title for your graph \n",
    "\n",
    "plt.legend() # create a legend\n",
    "\n",
    "plt.show() # show the graph"
   ]
  },
  {
   "cell_type": "markdown",
   "id": "2eb81d4e",
   "metadata": {},
   "source": [
    "Display the relationship between accommodates and price using scatter plot\t"
   ]
  },
  {
   "cell_type": "code",
   "execution_count": null,
   "id": "c1e0d8a8",
   "metadata": {},
   "outputs": [],
   "source": [
    "#accommodates is the maximum capasity of the listing\n",
    "data['accommodates'] "
   ]
  },
  {
   "cell_type": "code",
   "execution_count": null,
   "id": "98ed2065",
   "metadata": {},
   "outputs": [],
   "source": [
    "data['price']"
   ]
  },
  {
   "cell_type": "code",
   "execution_count": null,
   "id": "1996d5e8",
   "metadata": {},
   "outputs": [],
   "source": [
    "fig = plt.figure(figsize=(15,8)) #Create figure object and set up the size of figure\n",
    "\n",
    "plt.scatter(data[\"accommodates\"], data[\"price\"], marker='D', s=100)\n",
    "plt.xlabel('Accommodates')\n",
    "plt.ylabel('Price')\n",
    "plt.title('Accommodates vs Price')\n",
    "plt.show()"
   ]
  },
  {
   "cell_type": "markdown",
   "id": "73b7aa2f",
   "metadata": {},
   "source": [
    "Display Airbnb prices from 2019 - 2022 with line chart using subplots (one year per plot)"
   ]
  },
  {
   "cell_type": "code",
   "execution_count": null,
   "id": "af29111b",
   "metadata": {},
   "outputs": [],
   "source": [
    "data['host_since'].values"
   ]
  },
  {
   "cell_type": "code",
   "execution_count": null,
   "id": "a75a2974",
   "metadata": {},
   "outputs": [],
   "source": [
    "price_year= data.groupby('host_since').size().sort_values(ascending=True)\n",
    "price_year\n"
   ]
  },
  {
   "cell_type": "code",
   "execution_count": null,
   "id": "4302b937",
   "metadata": {},
   "outputs": [],
   "source": [
    "x=price_year.tolist\n",
    "x"
   ]
  },
  {
   "cell_type": "code",
   "execution_count": null,
   "id": "918a0b54",
   "metadata": {},
   "outputs": [],
   "source": [
    "data.sort_values(by = ['host_since'], inplace =False, ascending=False).head()"
   ]
  },
  {
   "cell_type": "code",
   "execution_count": null,
   "id": "2efcc23b",
   "metadata": {},
   "outputs": [],
   "source": [
    "data.query(\"host_since >= 01-01-2019 & host_since <= 01-01-2022 \")"
   ]
  },
  {
   "cell_type": "code",
   "execution_count": null,
   "id": "5ca8b016",
   "metadata": {},
   "outputs": [],
   "source": [
    "filter_price_year = price_year.loc[lambda x : x > 2019 & x < 2022]"
   ]
  },
  {
   "cell_type": "code",
   "execution_count": null,
   "id": "9a2e36d9",
   "metadata": {},
   "outputs": [],
   "source": [
    "data.groupby('host_since')['price']"
   ]
  },
  {
   "cell_type": "code",
   "execution_count": null,
   "id": "d722d11c",
   "metadata": {},
   "outputs": [],
   "source": []
  }
 ],
 "metadata": {
  "kernelspec": {
   "display_name": "Python 3 (ipykernel)",
   "language": "python",
   "name": "python3"
  },
  "language_info": {
   "codemirror_mode": {
    "name": "ipython",
    "version": 3
   },
   "file_extension": ".py",
   "mimetype": "text/x-python",
   "name": "python",
   "nbconvert_exporter": "python",
   "pygments_lexer": "ipython3",
   "version": "3.9.16"
  }
 },
 "nbformat": 4,
 "nbformat_minor": 5
}
