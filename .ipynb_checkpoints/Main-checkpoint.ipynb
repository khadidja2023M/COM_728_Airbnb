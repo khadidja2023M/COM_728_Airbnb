{
 "cells": [
  {
   "cell_type": "code",
   "execution_count": 1,
   "id": "9dbfa38f",
   "metadata": {},
   "outputs": [
    {
     "name": "stdout",
     "output_type": "stream",
     "text": [
      "Enter the file path: heko\n",
      "select which menu would you like:\n",
      "    [first]:Retrieve data.\n",
      "   \n",
      "    [second]:Analyse data.\n",
      "\n",
      "    [third]:visualise data.\n",
      "\n",
      "    [exit]:Exit the programme.\n",
      "your selection: first\n",
      "Error:File heko not found.\n",
      "select which menu whoud you like:\n",
      "    \n",
      "    [1]   :List name of listing, host name, description, host location, host since by host id.\n",
      " \n",
      "    \n",
      "    [2]   :List host name, property type, price, minimum_nights and maximum_nights by location.\n",
      "\n",
      "    \n",
      "    [3]   :List room type, accommodates, bathrooms, bedroom and beds for a specified property type.\n",
      "\n",
      "    \n",
      "    [4]   :List review scores of cleanliness, checkin, communication and rating by location.\n",
      "                 \n",
      "    \n",
      "    [exit]:Exit the programme.\n",
      "    \n",
      "your selection: 1\n",
      "###########################################################################\n",
      "Operation started: listing host name, description, host location and host since by ID...\n",
      "\n"
     ]
    },
    {
     "ename": "KeyboardInterrupt",
     "evalue": "Interrupted by user",
     "output_type": "error",
     "traceback": [
      "\u001b[1;31m---------------------------------------------------------------------------\u001b[0m",
      "\u001b[1;31mKeyboardInterrupt\u001b[0m                         Traceback (most recent call last)",
      "\u001b[1;32m~\\AppData\\Local\\Temp\\ipykernel_24880\\685729863.py\u001b[0m in \u001b[0;36m<module>\u001b[1;34m\u001b[0m\n\u001b[0;32m    112\u001b[0m \u001b[1;33m\u001b[0m\u001b[0m\n\u001b[0;32m    113\u001b[0m \u001b[1;31m#Call run fonction to run the programme.\u001b[0m\u001b[1;33m\u001b[0m\u001b[1;33m\u001b[0m\u001b[0m\n\u001b[1;32m--> 114\u001b[1;33m     \u001b[0mrun\u001b[0m\u001b[1;33m(\u001b[0m\u001b[1;33m)\u001b[0m\u001b[1;33m\u001b[0m\u001b[1;33m\u001b[0m\u001b[0m\n\u001b[0m\u001b[0;32m    115\u001b[0m \u001b[1;33m\u001b[0m\u001b[0m\n\u001b[0;32m    116\u001b[0m \u001b[1;33m\u001b[0m\u001b[0m\n",
      "\u001b[1;32m~\\AppData\\Local\\Temp\\ipykernel_24880\\685729863.py\u001b[0m in \u001b[0;36mrun\u001b[1;34m()\u001b[0m\n\u001b[0;32m     39\u001b[0m                 \u001b[1;32mif\u001b[0m  \u001b[0mmenu_selection\u001b[0m \u001b[1;33m==\u001b[0m \u001b[1;34m'1'\u001b[0m\u001b[1;33m:\u001b[0m\u001b[1;33m\u001b[0m\u001b[1;33m\u001b[0m\u001b[0m\n\u001b[0;32m     40\u001b[0m                     \u001b[1;31m#display listing by id function called from retrieve module.\u001b[0m\u001b[1;33m\u001b[0m\u001b[1;33m\u001b[0m\u001b[0m\n\u001b[1;32m---> 41\u001b[1;33m                     \u001b[0mretrieve\u001b[0m\u001b[1;33m.\u001b[0m\u001b[0mlisting_by_id\u001b[0m\u001b[1;33m(\u001b[0m\u001b[0mdata\u001b[0m\u001b[1;33m)\u001b[0m\u001b[1;33m\u001b[0m\u001b[1;33m\u001b[0m\u001b[0m\n\u001b[0m\u001b[0;32m     42\u001b[0m                 \u001b[1;32melif\u001b[0m \u001b[0mmenu_selection\u001b[0m \u001b[1;33m==\u001b[0m \u001b[1;34m'2'\u001b[0m\u001b[1;33m:\u001b[0m\u001b[1;33m\u001b[0m\u001b[1;33m\u001b[0m\u001b[0m\n\u001b[0;32m     43\u001b[0m                     \u001b[0mretrieve\u001b[0m\u001b[1;33m.\u001b[0m\u001b[0mlisting_for_specified_location\u001b[0m\u001b[1;33m(\u001b[0m\u001b[0mdata\u001b[0m\u001b[1;33m)\u001b[0m\u001b[1;33m\u001b[0m\u001b[1;33m\u001b[0m\u001b[0m\n",
      "\u001b[1;32m~\\OneDrive - Solent University\\COM_728_Airbnb\\retrieve.py\u001b[0m in \u001b[0;36mlisting_by_id\u001b[1;34m(data)\u001b[0m\n\u001b[0;32m     51\u001b[0m     \u001b[0mtui\u001b[0m\u001b[1;33m.\u001b[0m\u001b[0mstarted\u001b[0m\u001b[1;33m(\u001b[0m\u001b[1;34m'listing host name, description, host location and host since by ID'\u001b[0m\u001b[1;33m)\u001b[0m\u001b[1;33m\u001b[0m\u001b[1;33m\u001b[0m\u001b[0m\n\u001b[0;32m     52\u001b[0m     \u001b[0mID\u001b[0m\u001b[1;33m=\u001b[0m\u001b[1;33m[\u001b[0m\u001b[1;33m]\u001b[0m\u001b[1;33m\u001b[0m\u001b[1;33m\u001b[0m\u001b[0m\n\u001b[1;32m---> 53\u001b[1;33m     \u001b[0minput_id\u001b[0m\u001b[1;33m=\u001b[0m\u001b[0minput\u001b[0m\u001b[1;33m(\u001b[0m\u001b[1;34m'enter your ID:'\u001b[0m\u001b[1;33m)\u001b[0m\u001b[1;33m\u001b[0m\u001b[1;33m\u001b[0m\u001b[0m\n\u001b[0m\u001b[0;32m     54\u001b[0m \u001b[1;33m\u001b[0m\u001b[0m\n\u001b[0;32m     55\u001b[0m     \u001b[1;32mfor\u001b[0m \u001b[0mrow\u001b[0m \u001b[1;32min\u001b[0m \u001b[0mdata\u001b[0m\u001b[1;33m:\u001b[0m\u001b[1;33m\u001b[0m\u001b[1;33m\u001b[0m\u001b[0m\n",
      "\u001b[1;32mC:\\ProgramData\\Anaconda3\\lib\\site-packages\\ipykernel\\kernelbase.py\u001b[0m in \u001b[0;36mraw_input\u001b[1;34m(self, prompt)\u001b[0m\n\u001b[0;32m   1175\u001b[0m                 \u001b[1;34m\"raw_input was called, but this frontend does not support input requests.\"\u001b[0m\u001b[1;33m\u001b[0m\u001b[1;33m\u001b[0m\u001b[0m\n\u001b[0;32m   1176\u001b[0m             )\n\u001b[1;32m-> 1177\u001b[1;33m         return self._input_request(\n\u001b[0m\u001b[0;32m   1178\u001b[0m             \u001b[0mstr\u001b[0m\u001b[1;33m(\u001b[0m\u001b[0mprompt\u001b[0m\u001b[1;33m)\u001b[0m\u001b[1;33m,\u001b[0m\u001b[1;33m\u001b[0m\u001b[1;33m\u001b[0m\u001b[0m\n\u001b[0;32m   1179\u001b[0m             \u001b[0mself\u001b[0m\u001b[1;33m.\u001b[0m\u001b[0m_parent_ident\u001b[0m\u001b[1;33m[\u001b[0m\u001b[1;34m\"shell\"\u001b[0m\u001b[1;33m]\u001b[0m\u001b[1;33m,\u001b[0m\u001b[1;33m\u001b[0m\u001b[1;33m\u001b[0m\u001b[0m\n",
      "\u001b[1;32mC:\\ProgramData\\Anaconda3\\lib\\site-packages\\ipykernel\\kernelbase.py\u001b[0m in \u001b[0;36m_input_request\u001b[1;34m(self, prompt, ident, parent, password)\u001b[0m\n\u001b[0;32m   1217\u001b[0m             \u001b[1;32mexcept\u001b[0m \u001b[0mKeyboardInterrupt\u001b[0m\u001b[1;33m:\u001b[0m\u001b[1;33m\u001b[0m\u001b[1;33m\u001b[0m\u001b[0m\n\u001b[0;32m   1218\u001b[0m                 \u001b[1;31m# re-raise KeyboardInterrupt, to truncate traceback\u001b[0m\u001b[1;33m\u001b[0m\u001b[1;33m\u001b[0m\u001b[0m\n\u001b[1;32m-> 1219\u001b[1;33m                 \u001b[1;32mraise\u001b[0m \u001b[0mKeyboardInterrupt\u001b[0m\u001b[1;33m(\u001b[0m\u001b[1;34m\"Interrupted by user\"\u001b[0m\u001b[1;33m)\u001b[0m \u001b[1;32mfrom\u001b[0m \u001b[1;32mNone\u001b[0m\u001b[1;33m\u001b[0m\u001b[1;33m\u001b[0m\u001b[0m\n\u001b[0m\u001b[0;32m   1220\u001b[0m             \u001b[1;32mexcept\u001b[0m \u001b[0mException\u001b[0m\u001b[1;33m:\u001b[0m\u001b[1;33m\u001b[0m\u001b[1;33m\u001b[0m\u001b[0m\n\u001b[0;32m   1221\u001b[0m                 \u001b[0mself\u001b[0m\u001b[1;33m.\u001b[0m\u001b[0mlog\u001b[0m\u001b[1;33m.\u001b[0m\u001b[0mwarning\u001b[0m\u001b[1;33m(\u001b[0m\u001b[1;34m\"Invalid Message:\"\u001b[0m\u001b[1;33m,\u001b[0m \u001b[0mexc_info\u001b[0m\u001b[1;33m=\u001b[0m\u001b[1;32mTrue\u001b[0m\u001b[1;33m)\u001b[0m\u001b[1;33m\u001b[0m\u001b[1;33m\u001b[0m\u001b[0m\n",
      "\u001b[1;31mKeyboardInterrupt\u001b[0m: Interrupted by user"
     ]
    }
   ],
   "source": [
    "# Main module \n",
    "#Import the modules \n",
    "import tui\n",
    "import retrieve        \n",
    "import os    \n",
    "import analyse\n",
    "import plot\n",
    "\n",
    "\n",
    "\n",
    "#The main function, which controll the programme.\n",
    "def run():\n",
    "    #Ask the user to enter the file path.\n",
    "    file_path = input(\"Enter the file path: \")\n",
    "    #A main loop keeps looping until user enter exit in the main menu.\n",
    "    running = True\n",
    "    while running:\n",
    "        #Call the function main menu from tui module.\n",
    "        selection = tui.main_menu()\n",
    "        \n",
    "        if  selection == 'first':\n",
    "            data = []\n",
    "            #Use os to check file path , call the function load data in the retrieve module.\n",
    "            #if the path exist the data will be load using csv.\n",
    "            \n",
    "            if os.path.exists(file_path):\n",
    "                data = retrieve.load_data_csv(file_path)\n",
    "                tui.completed()\n",
    "            else:\n",
    "                print(f'Error:File {file_path} not found.Open file by default.')\n",
    "                data = open('Airbnb_UK_2022.csv')\n",
    "                #break\n",
    "                \n",
    "            #Nested loop \n",
    "            running = True\n",
    "            while running:\n",
    "                #Call retrieve menu function from retieve module(sub menu).\n",
    "                menu_selection = retrieve.retrieve_menu()\n",
    "                if  menu_selection == '1':\n",
    "                    #display listing by id function called from retrieve module.\n",
    "                    retrieve.listing_by_id(data)\n",
    "                elif menu_selection == '2':\n",
    "                    retrieve.listing_for_specified_location(data)\n",
    "                elif menu_selection == '3': \n",
    "                    retrieve.listing_by_property_type(data)\n",
    "                elif menu_selection == '4':\n",
    "                    retrieve.listing_by_location(data)\n",
    "                elif menu_selection == 'exit':\n",
    "                    #If the user enter exit the loop will stop.\n",
    "                    break\n",
    "                #The error function called from the tui module to handle the error in case the user\n",
    "                #enter someting different than the options.\n",
    "                else:\n",
    "                    tui.error()\n",
    "                \n",
    "            #If file path entered from the user dosen't exist print envalid file path.    \n",
    "            else: \n",
    "                print('envalid file path')\n",
    "            \n",
    "        #Second option of the main loop.            \n",
    "        elif selection == 'second':\n",
    "            #Use load data function from analyse module using pandas.\n",
    "            data=analyse.load_data_pandas(file_path)\n",
    "            tui.completed()\n",
    "            #Nested loop \n",
    "            running = True\n",
    "            while running:\n",
    "                #Call retrieve menu function from retieve module(sub menu).\n",
    "                menu_selection = analyse.analyse_menu()\n",
    "                if menu_selection == '1':\n",
    "                    analyse.popular_amenities(data)\n",
    "                elif menu_selection == '2':\n",
    "                    analyse.average_price_location(data)\n",
    "                elif menu_selection == '3':\n",
    "                    analyse.average_review_location(data)\n",
    "                elif menu_selection == '4':\n",
    "                    analyse.average_price_host_is_superhost(data)\n",
    "                elif menu_selection == 'exit':\n",
    "                \n",
    "                    break\n",
    "                else:\n",
    "                    tui.error()\n",
    "        #Third  option of the main loop.           \n",
    "        elif selection == 'third':        \n",
    "            data=analyse.load_data_pandas(file_path)\n",
    "            tui.completed()\n",
    "            running = True\n",
    "            while running:\n",
    "                menu_selection = plot.plot_menu()\n",
    "                if menu_selection == '1':\n",
    "                    plot.number_bedrooms(data)\n",
    "                elif menu_selection == '2':\n",
    "                    plot.number_listing(data)\n",
    "                elif menu_selection == '3':\n",
    "                    plot.relation_accommodates_price(data)\n",
    "                elif menu_selection == '4':\n",
    "                    plot.prices_specified_years(data)\n",
    "                elif menu_selection == '5':\n",
    "                    plot.relation_response_reviews(data)\n",
    "                elif menu_selection == 'exit':\n",
    "                \n",
    "                    break\n",
    "                else:\n",
    "                    tui.error()\n",
    "        #If the user enter exit the main loop will stop, so the programme will stop.            \n",
    "        elif selection == 'exit':  \n",
    "            break\n",
    "        else:\n",
    "            tui.error()            \n",
    "\n",
    "if __name__== \"__main__\":\n",
    "    \n",
    "#Call run fonction to run the programme.\n",
    "    run()\n",
    "\n",
    "\n"
   ]
  },
  {
   "cell_type": "code",
   "execution_count": null,
   "id": "a75a2974",
   "metadata": {},
   "outputs": [],
   "source": [
    "import pandas as pd\n",
    "data=pd.read_csv('Airbnb_UK_2022.csv')\n",
    "data.head(5)"
   ]
  },
  {
   "cell_type": "code",
   "execution_count": null,
   "id": "180d7401",
   "metadata": {},
   "outputs": [],
   "source": [
    "data.columns"
   ]
  },
  {
   "cell_type": "code",
   "execution_count": null,
   "id": "926d755f",
   "metadata": {},
   "outputs": [],
   "source": [
    "data['host_since'] = pd.to_datetime(data['host_since'])\n",
    "data.head(2)"
   ]
  },
  {
   "cell_type": "code",
   "execution_count": null,
   "id": "1c90e366",
   "metadata": {},
   "outputs": [],
   "source": []
  },
  {
   "cell_type": "code",
   "execution_count": null,
   "id": "78245fa4",
   "metadata": {},
   "outputs": [],
   "source": [
    "data.dtypes"
   ]
  },
  {
   "cell_type": "code",
   "execution_count": null,
   "id": "667d2bf1",
   "metadata": {},
   "outputs": [],
   "source": [
    "filter_per_year_2019 = data.query(\"host_since >= '2019-01-01' and host_since < '2019-12-31'\")\n",
    "filter_per_year_2019\n"
   ]
  },
  {
   "cell_type": "code",
   "execution_count": null,
   "id": "5a1d7fb6",
   "metadata": {},
   "outputs": [],
   "source": [
    "filter_per_year_2020 = data.query(\"host_since >= '2020-01-01' and host_since < '2020-12-31'\")\n",
    "filter_per_year_2020.head(2)"
   ]
  },
  {
   "cell_type": "code",
   "execution_count": null,
   "id": "4d9d2ee3",
   "metadata": {},
   "outputs": [],
   "source": [
    "filter_per_year_2021 = data.query(\"host_since >= '2021-01-01' and host_since < '2021-12-31'\")\n",
    "filter_per_year_2021.head(2)"
   ]
  },
  {
   "cell_type": "code",
   "execution_count": null,
   "id": "8cb7e9f3",
   "metadata": {},
   "outputs": [],
   "source": [
    "filter_per_year_2022 = data.query(\"host_since >= '2022-01-01' and host_since < '2022-12-31'\")\n",
    "filter_per_year_2022.head(2)"
   ]
  },
  {
   "cell_type": "code",
   "execution_count": null,
   "id": "47a580e7",
   "metadata": {},
   "outputs": [],
   "source": [
    "group_by_month_year2019=filter_per_year_2019.groupby(filter_per_year_2019.host_since.dt.month)['price'].mean()\n",
    "group_by_month_year2019.head(2)"
   ]
  },
  {
   "cell_type": "code",
   "execution_count": null,
   "id": "524c9036",
   "metadata": {},
   "outputs": [],
   "source": [
    "group_by_month_year2020=filter_per_year_2020.groupby(filter_per_year_2020.host_since.dt.month)['price'].mean()\n",
    "group_by_month_year2020"
   ]
  },
  {
   "cell_type": "code",
   "execution_count": null,
   "id": "81a3b082",
   "metadata": {},
   "outputs": [],
   "source": [
    "group_by_month_year2021=filter_per_year_2021.groupby(filter_per_year_2021.host_since.dt.month)['price'].mean()\n",
    "group_by_month_year2021"
   ]
  },
  {
   "cell_type": "code",
   "execution_count": null,
   "id": "7d1b36e4",
   "metadata": {},
   "outputs": [],
   "source": [
    "group_by_month_year2022=filter_per_year_2022.groupby(filter_per_year_2022.host_since.dt.month)['price'].mean()\n",
    "group_by_month_year2022"
   ]
  },
  {
   "cell_type": "code",
   "execution_count": null,
   "id": "a5c7fe8b",
   "metadata": {},
   "outputs": [],
   "source": [
    "x4=group_by_month_year2022.index.tolist()\n",
    "x4"
   ]
  },
  {
   "cell_type": "code",
   "execution_count": null,
   "id": "34aeadaf",
   "metadata": {},
   "outputs": [],
   "source": [
    "y4=group_by_month_year2022.tolist()\n",
    "y4"
   ]
  },
  {
   "cell_type": "code",
   "execution_count": null,
   "id": "09787754",
   "metadata": {},
   "outputs": [],
   "source": [
    "x3=group_by_month_year2021.index.tolist()\n",
    "x3"
   ]
  },
  {
   "cell_type": "code",
   "execution_count": null,
   "id": "6e4172de",
   "metadata": {},
   "outputs": [],
   "source": [
    "y3=group_by_month_year2021.tolist()\n",
    "y3"
   ]
  },
  {
   "cell_type": "code",
   "execution_count": null,
   "id": "8cdf193c",
   "metadata": {},
   "outputs": [],
   "source": [
    "x2=group_by_month_year2020.index.tolist()\n",
    "x2"
   ]
  },
  {
   "cell_type": "code",
   "execution_count": null,
   "id": "e22a1096",
   "metadata": {},
   "outputs": [],
   "source": [
    "y2=group_by_month_year2020.tolist()\n",
    "y2"
   ]
  },
  {
   "cell_type": "code",
   "execution_count": null,
   "id": "452e55a2",
   "metadata": {},
   "outputs": [],
   "source": [
    "x1=group_by_month_year2019.index.tolist()\n",
    "x1"
   ]
  },
  {
   "cell_type": "code",
   "execution_count": null,
   "id": "12a5ec40",
   "metadata": {},
   "outputs": [],
   "source": [
    "y1=group_by_month_year2019.tolist()\n",
    "y1"
   ]
  },
  {
   "cell_type": "code",
   "execution_count": null,
   "id": "1398d9ac",
   "metadata": {},
   "outputs": [],
   "source": [
    "%matplotlib inline\n",
    "import matplotlib.pyplot as plt\n",
    "\n",
    "figure, axes = plt.subplots(4,1, figsize=(20,10))\n",
    "\n",
    "axes[0].plot(x1, y1)\n",
    "axes[1].plot(x2, y2)\n",
    "axes[2].plot(x3, y3)\n",
    "axes[3].plot(x4, y4)\n",
    "axes[0].set(title=\"Average price in year19\", xlabel='months year19',ylabel='prices')\n",
    "axes[1].set(title=\"Average price in year20\", xlabel='months year20',ylabel='prices')\n",
    "axes[2].set(title=\"Average price in year21\", xlabel='months year21',ylabel='prices')\n",
    "axes[3].set(title=\"Average price in year22\", xlabel='months year22',ylabel='prices')\n",
    "figure.suptitle(\"Airbnb prices from 2019 - 2022\")\n",
    "\n",
    "\n",
    "plt.show()   "
   ]
  },
  {
   "cell_type": "code",
   "execution_count": null,
   "id": "a031bf26",
   "metadata": {},
   "outputs": [],
   "source": [
    "def prices_specified_years(data):\n",
    "    data['host_since'] = pd.to_datetime(data['host_since'])\n",
    "    \n",
    "    filter_per_year_2019 = data.query(\"host_since >= '2019-01-01' and host_since < '2019-12-31'\")\n",
    "    filter_per_year_2020 = data.query(\"host_since >= '2020-01-01' and host_since < '2020-12-31'\")\n",
    "    filter_per_year_2021 = data.query(\"host_since >= '2021-01-01' and host_since < '2021-12-31'\")\n",
    "    filter_per_year_2022 = data.query(\"host_since >= '2022-01-01' and host_since < '2022-12-31'\")\n",
    "    group_by_month_year2019=filter_per_year_2019.groupby(filter_per_year_2019.host_since.dt.month)['price'].mean()\n",
    "    group_by_month_year2020=filter_per_year_2020.groupby(filter_per_year_2020.host_since.dt.month)['price'].mean()\n",
    "    group_by_month_year2021=filter_per_year_2021.groupby(filter_per_year_2021.host_since.dt.month)['price'].mean()\n",
    "    group_by_month_year2022=filter_per_year_2022.groupby(filter_per_year_2022.host_since.dt.month)['price'].mean()\n",
    "    x1=group_by_month_year2019.index.tolist()\n",
    "    y1=group_by_month_year2019.tolist()\n",
    "    x2=group_by_month_year2020.index.tolist()\n",
    "    y2=group_by_month_year2020.tolist()\n",
    "    x3=group_by_month_year2021.index.tolist()\n",
    "    y3=group_by_month_year2021.tolist()\n",
    "    x4=group_by_month_year2022.index.tolist()\n",
    "    y4=group_by_month_year2022.tolist()\n",
    "    figure, axes = plt.subplots(1,4, figsize=(17,7))\n",
    "    axes[0].plot(x1, y1)\n",
    "    axes[1].plot(x2, y2)\n",
    "    axes[2].plot(x3, y3)\n",
    "    axes[3].plot(x4, y4)\n",
    "    figure.suptitle(\"Airbnb prices from 2019 - 2022\")\n",
    "    axes[0].set(title=\"Average price in year19\", xlabel='months year19',ylabel='prices')\n",
    "    axes[1].set(title=\"Average price in year20\", xlabel='months year20',ylabel='prices')\n",
    "    axes[2].set(title=\"Average price in year21\", xlabel='months year21',ylabel='prices')\n",
    "    axes[3].set(title=\"Average price in year22\", xlabel='months year22',ylabel='prices')\n",
    "\n",
    "\n",
    "\n",
    "    plt.show() \n",
    "prices_specified_years(data)    "
   ]
  },
  {
   "cell_type": "code",
   "execution_count": null,
   "id": "c7823ca0",
   "metadata": {},
   "outputs": [],
   "source": []
  }
 ],
 "metadata": {
  "kernelspec": {
   "display_name": "Python 3 (ipykernel)",
   "language": "python",
   "name": "python3"
  },
  "language_info": {
   "codemirror_mode": {
    "name": "ipython",
    "version": 3
   },
   "file_extension": ".py",
   "mimetype": "text/x-python",
   "name": "python",
   "nbconvert_exporter": "python",
   "pygments_lexer": "ipython3",
   "version": "3.9.13"
  }
 },
 "nbformat": 4,
 "nbformat_minor": 5
}
