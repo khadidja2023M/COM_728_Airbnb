{
 "cells": [
  {
   "cell_type": "code",
   "execution_count": 1,
   "id": "9dbfa38f",
   "metadata": {},
   "outputs": [
    {
     "name": "stdout",
     "output_type": "stream",
     "text": [
      "Enter the file path: Airbnb_UK_2022.csv\n",
      "###########################################################################\n",
      "Operation started: Reading data from file path...\n",
      "\n",
      "Operation completed.\n",
      "###########################################################################\n",
      "select which menu whoud you like:\n",
      "    \n",
      "    [1]   :List name of listing, host name, description, host location, host since by host id.\n",
      " \n",
      "    \n",
      "    [2]   :List host name, property type, price, minimum_nights and maximum_nights by location.\n",
      "\n",
      "    \n",
      "    [3]   :List room type, accommodates, bathrooms, bedroom and beds for a specified property type.\n",
      "\n",
      "    \n",
      "    [4]   :List review scores of cleanliness, checkin, communication and rating by location.\n",
      "                 \n",
      "    \n",
      "    [exit]:Exit the programme.\n",
      "    \n",
      "your selection: exit\n"
     ]
    }
   ],
   "source": [
    "# Main module \n",
    "\n",
    "import tui\n",
    "import process        \n",
    "import os\n",
    "            \n",
    "\n",
    "def run():\n",
    "    #ask the user to enter the file path.\n",
    "    file_path = input(\"Enter the file path: \")\n",
    "    \n",
    "    data =[]\n",
    "    #use os to check file path , call the function load data in the process module if the path exist.\n",
    "    if os.path.exists(file_path):\n",
    "        data=process.load_data(file_path)\n",
    "        \n",
    "    else: \n",
    "        print('envalid file path')\n",
    "    tui.completed()\n",
    "    #while the user selecting one of the options the loop keeps looping and when the user select exit stop the programme.\n",
    "    running=True\n",
    "\n",
    "    while running:\n",
    "        \n",
    "        menu_selection = tui.menu()\n",
    "        \n",
    "        \n",
    "        if  menu_selection=='1':\n",
    "            process.listing_by_id(data)\n",
    "        elif menu_selection=='2':\n",
    "            process.listing_for_specified_location(data)\n",
    "        elif menu_selection =='3': \n",
    "            process.listing_by_property_type(data)\n",
    "        elif menu_selection=='4':\n",
    "            process.listing_by_location(data)\n",
    "        elif menu_selection == 'exit':\n",
    "            running=False\n",
    "            break\n",
    "        \n",
    "        else:\n",
    "        \n",
    "            tui.error()\n",
    "            \n",
    "            \n",
    "\n",
    "if __name__== \"__main__\":\n",
    "    \n",
    "\n",
    "    \n",
    "    run()\n",
    "\n",
    "\n"
   ]
  },
  {
   "cell_type": "markdown",
   "id": "1dc3025b",
   "metadata": {},
   "source": [
    "Load the data from CSV file using pandas"
   ]
  },
  {
   "cell_type": "code",
   "execution_count": 2,
   "id": "2f86f302",
   "metadata": {},
   "outputs": [
    {
     "data": {
      "text/html": [
       "<div>\n",
       "<style scoped>\n",
       "    .dataframe tbody tr th:only-of-type {\n",
       "        vertical-align: middle;\n",
       "    }\n",
       "\n",
       "    .dataframe tbody tr th {\n",
       "        vertical-align: top;\n",
       "    }\n",
       "\n",
       "    .dataframe thead th {\n",
       "        text-align: right;\n",
       "    }\n",
       "</style>\n",
       "<table border=\"1\" class=\"dataframe\">\n",
       "  <thead>\n",
       "    <tr style=\"text-align: right;\">\n",
       "      <th></th>\n",
       "      <th>host_id</th>\n",
       "      <th>name</th>\n",
       "      <th>description</th>\n",
       "      <th>host_name</th>\n",
       "      <th>host_since</th>\n",
       "      <th>host_location</th>\n",
       "      <th>host_response_time</th>\n",
       "      <th>host_response_rate</th>\n",
       "      <th>host_acceptance_rate</th>\n",
       "      <th>host_is_superhost</th>\n",
       "      <th>...</th>\n",
       "      <th>number_of_reviews</th>\n",
       "      <th>first_review</th>\n",
       "      <th>last_review</th>\n",
       "      <th>review_scores_rating</th>\n",
       "      <th>review_scores_accuracy</th>\n",
       "      <th>review_scores_cleanliness</th>\n",
       "      <th>review_scores_checkin</th>\n",
       "      <th>review_scores_communication</th>\n",
       "      <th>review_scores_location</th>\n",
       "      <th>review_scores_value</th>\n",
       "    </tr>\n",
       "  </thead>\n",
       "  <tbody>\n",
       "    <tr>\n",
       "      <th>0</th>\n",
       "      <td>60302</td>\n",
       "      <td>Bright Chelsea  Apartment. Chelsea!</td>\n",
       "      <td>lots of windows and light  st luke s gardens a...</td>\n",
       "      <td>Philippa</td>\n",
       "      <td>05-12-09</td>\n",
       "      <td>Kensington</td>\n",
       "      <td>within an hour</td>\n",
       "      <td>67%</td>\n",
       "      <td>29%</td>\n",
       "      <td>False</td>\n",
       "      <td>...</td>\n",
       "      <td>89</td>\n",
       "      <td>21-12-09</td>\n",
       "      <td>16-03-20</td>\n",
       "      <td>4.79</td>\n",
       "      <td>4.84</td>\n",
       "      <td>4.88</td>\n",
       "      <td>4.87</td>\n",
       "      <td>4.82</td>\n",
       "      <td>4.93</td>\n",
       "      <td>4.73</td>\n",
       "    </tr>\n",
       "    <tr>\n",
       "      <th>1</th>\n",
       "      <td>554519</td>\n",
       "      <td>JESSIE the narrowboat in Little Venice</td>\n",
       "      <td>jessie the narrowboat is moored in the heart o...</td>\n",
       "      <td>Meg</td>\n",
       "      <td>03-05-11</td>\n",
       "      <td>London</td>\n",
       "      <td>within an hour</td>\n",
       "      <td>100%</td>\n",
       "      <td>100%</td>\n",
       "      <td>True</td>\n",
       "      <td>...</td>\n",
       "      <td>581</td>\n",
       "      <td>04-07-11</td>\n",
       "      <td>02-09-22</td>\n",
       "      <td>4.91</td>\n",
       "      <td>4.94</td>\n",
       "      <td>4.90</td>\n",
       "      <td>4.97</td>\n",
       "      <td>4.96</td>\n",
       "      <td>4.98</td>\n",
       "      <td>4.77</td>\n",
       "    </tr>\n",
       "    <tr>\n",
       "      <th>2</th>\n",
       "      <td>1481851</td>\n",
       "      <td>Notting Hill church stay in Heaven!</td>\n",
       "      <td>the spaceoverview located   min walk away from...</td>\n",
       "      <td>Tania</td>\n",
       "      <td>07-12-11</td>\n",
       "      <td>London</td>\n",
       "      <td>within a few hours</td>\n",
       "      <td>100%</td>\n",
       "      <td>86%</td>\n",
       "      <td>True</td>\n",
       "      <td>...</td>\n",
       "      <td>6</td>\n",
       "      <td>16-07-12</td>\n",
       "      <td>04-07-22</td>\n",
       "      <td>4.83</td>\n",
       "      <td>4.83</td>\n",
       "      <td>5.00</td>\n",
       "      <td>5.00</td>\n",
       "      <td>5.00</td>\n",
       "      <td>5.00</td>\n",
       "      <td>4.83</td>\n",
       "    </tr>\n",
       "    <tr>\n",
       "      <th>3</th>\n",
       "      <td>41759</td>\n",
       "      <td>Battersea live/work artist house, garden communal</td>\n",
       "      <td>artist house  bright high ceiling rooms for bo...</td>\n",
       "      <td>Joe</td>\n",
       "      <td>28-09-09</td>\n",
       "      <td>London</td>\n",
       "      <td>within a day</td>\n",
       "      <td>100%</td>\n",
       "      <td>50%</td>\n",
       "      <td>False</td>\n",
       "      <td>...</td>\n",
       "      <td>96</td>\n",
       "      <td>15-11-10</td>\n",
       "      <td>19-07-22</td>\n",
       "      <td>4.90</td>\n",
       "      <td>4.89</td>\n",
       "      <td>4.91</td>\n",
       "      <td>4.90</td>\n",
       "      <td>4.93</td>\n",
       "      <td>4.59</td>\n",
       "      <td>4.65</td>\n",
       "    </tr>\n",
       "    <tr>\n",
       "      <th>4</th>\n",
       "      <td>586671</td>\n",
       "      <td>DOUBLE ROOM NEAR CENTRAL LONDON</td>\n",
       "      <td>the spaceone lovely double bed and breakfastro...</td>\n",
       "      <td>Joe</td>\n",
       "      <td>14-05-11</td>\n",
       "      <td>London</td>\n",
       "      <td>within a day</td>\n",
       "      <td>90%</td>\n",
       "      <td>84%</td>\n",
       "      <td>True</td>\n",
       "      <td>...</td>\n",
       "      <td>32</td>\n",
       "      <td>06-07-13</td>\n",
       "      <td>08-09-22</td>\n",
       "      <td>4.91</td>\n",
       "      <td>4.97</td>\n",
       "      <td>4.88</td>\n",
       "      <td>5.00</td>\n",
       "      <td>5.00</td>\n",
       "      <td>4.72</td>\n",
       "      <td>4.88</td>\n",
       "    </tr>\n",
       "  </tbody>\n",
       "</table>\n",
       "<p>5 rows × 34 columns</p>\n",
       "</div>"
      ],
      "text/plain": [
       "   host_id                                               name  \\\n",
       "0    60302                Bright Chelsea  Apartment. Chelsea!   \n",
       "1   554519             JESSIE the narrowboat in Little Venice   \n",
       "2  1481851                Notting Hill church stay in Heaven!   \n",
       "3    41759  Battersea live/work artist house, garden communal   \n",
       "4   586671                    DOUBLE ROOM NEAR CENTRAL LONDON   \n",
       "\n",
       "                                         description host_name host_since  \\\n",
       "0  lots of windows and light  st luke s gardens a...  Philippa   05-12-09   \n",
       "1  jessie the narrowboat is moored in the heart o...       Meg   03-05-11   \n",
       "2  the spaceoverview located   min walk away from...     Tania   07-12-11   \n",
       "3  artist house  bright high ceiling rooms for bo...       Joe   28-09-09   \n",
       "4  the spaceone lovely double bed and breakfastro...       Joe   14-05-11   \n",
       "\n",
       "  host_location  host_response_time host_response_rate host_acceptance_rate  \\\n",
       "0    Kensington      within an hour                67%                  29%   \n",
       "1        London      within an hour               100%                 100%   \n",
       "2        London  within a few hours               100%                  86%   \n",
       "3        London        within a day               100%                  50%   \n",
       "4        London        within a day                90%                  84%   \n",
       "\n",
       "   host_is_superhost  ...  number_of_reviews first_review  last_review  \\\n",
       "0              False  ...                 89     21-12-09     16-03-20   \n",
       "1               True  ...                581     04-07-11     02-09-22   \n",
       "2               True  ...                  6     16-07-12     04-07-22   \n",
       "3              False  ...                 96     15-11-10     19-07-22   \n",
       "4               True  ...                 32     06-07-13     08-09-22   \n",
       "\n",
       "  review_scores_rating review_scores_accuracy  review_scores_cleanliness  \\\n",
       "0                 4.79                   4.84                       4.88   \n",
       "1                 4.91                   4.94                       4.90   \n",
       "2                 4.83                   4.83                       5.00   \n",
       "3                 4.90                   4.89                       4.91   \n",
       "4                 4.91                   4.97                       4.88   \n",
       "\n",
       "  review_scores_checkin  review_scores_communication  review_scores_location  \\\n",
       "0                  4.87                         4.82                    4.93   \n",
       "1                  4.97                         4.96                    4.98   \n",
       "2                  5.00                         5.00                    5.00   \n",
       "3                  4.90                         4.93                    4.59   \n",
       "4                  5.00                         5.00                    4.72   \n",
       "\n",
       "  review_scores_value  \n",
       "0                4.73  \n",
       "1                4.77  \n",
       "2                4.83  \n",
       "3                4.65  \n",
       "4                4.88  \n",
       "\n",
       "[5 rows x 34 columns]"
      ]
     },
     "execution_count": 2,
     "metadata": {},
     "output_type": "execute_result"
    }
   ],
   "source": [
    "import pandas as pd \n",
    "#read csv file using pandas.\n",
    "data=pd.read_csv(\"Airbnb_UK_2022.csv\", header=0)\n",
    "data.head()\n",
    "    "
   ]
  },
  {
   "cell_type": "markdown",
   "id": "e2674f83",
   "metadata": {},
   "source": [
    "Data exploration"
   ]
  },
  {
   "cell_type": "code",
   "execution_count": null,
   "id": "429a766d",
   "metadata": {},
   "outputs": [],
   "source": [
    "#display columns names.\n",
    "data.columns"
   ]
  },
  {
   "cell_type": "code",
   "execution_count": null,
   "id": "db2b9f88",
   "metadata": {},
   "outputs": [],
   "source": [
    " #discover how many columns and rows the data has using shape method.\n",
    "data.shape"
   ]
  },
  {
   "cell_type": "markdown",
   "id": "3e740d81",
   "metadata": {},
   "source": [
    "Identifying the most popular amenities that Airbnb guests are looking for"
   ]
  },
  {
   "cell_type": "code",
   "execution_count": 5,
   "id": "6c01bbdb",
   "metadata": {},
   "outputs": [
    {
     "data": {
      "text/plain": [
       "0       [\"Fire extinguisher\", \"Hair dryer\", \"Hangers\",...\n",
       "1       [\"Extra pillows and blankets\", \"First aid kit\"...\n",
       "2       [\"Essentials\", \"Wifi\", \"Hot water\", \"Washer\", ...\n",
       "3       [\"Extra pillows and blankets\", \"Record player\"...\n",
       "4       [\"Oven\", \"Fire extinguisher\", \"Hair dryer\", \"D...\n",
       "                              ...                        \n",
       "8434    [\"Essentials\", \"First aid kit\", \"Hot water\", \"...\n",
       "8435    [\"First aid kit\", \"Cleaning before checkout\", ...\n",
       "8436    [\"Oven\", \"Hair dryer\", \"Private entrance\", \"Ha...\n",
       "8437    [\"First aid kit\", \"Oven\", \"Fire extinguisher\",...\n",
       "8438    [\"Extra pillows and blankets\", \"First aid kit\"...\n",
       "Name: amenities, Length: 8439, dtype: object"
      ]
     },
     "execution_count": 5,
     "metadata": {},
     "output_type": "execute_result"
    }
   ],
   "source": [
    "#First print amenities column to have an idea about the column.\n",
    "data['amenities']"
   ]
  },
  {
   "cell_type": "code",
   "execution_count": null,
   "id": "054298d2",
   "metadata": {},
   "outputs": [],
   "source": [
    "#Use describe on amenities column to find popular amenities (the top).\n",
    "data['amenities'].describe()\n"
   ]
  },
  {
   "cell_type": "code",
   "execution_count": 6,
   "id": "046d8e3b",
   "metadata": {},
   "outputs": [
    {
     "data": {
      "text/plain": [
       "0    [\"Washer\", \"Long term stays allowed\", \"TV\", \"S...\n",
       "Name: amenities, dtype: object"
      ]
     },
     "execution_count": 6,
     "metadata": {},
     "output_type": "execute_result"
    }
   ],
   "source": [
    "#Use mode function to get just the popular amenities.\n",
    "#the most popular amenities are the ones repeated most which is the mode .\n",
    "popular_amenities=data['amenities'].mode()\n",
    "popular_amenities"
   ]
  },
  {
   "cell_type": "code",
   "execution_count": 3,
   "id": "eabd4702",
   "metadata": {},
   "outputs": [
    {
     "name": "stdout",
     "output_type": "stream",
     "text": [
      "the most popular amenities are:['[\"Washer\", \"Long term stays allowed\", \"TV\", \"Smoke alarm\", \"Carbon monoxide alarm\", \"Kitchen\", \"Wifi\"]']\n"
     ]
    }
   ],
   "source": [
    "#Use display_amenities function from the tui module to display popular amenities in a list.\n",
    "tui.display_popular_amenities(data)"
   ]
  },
  {
   "cell_type": "markdown",
   "id": "f761e578",
   "metadata": {},
   "source": [
    "Analyse the Average price of stay in each location "
   ]
  },
  {
   "cell_type": "code",
   "execution_count": 4,
   "id": "0b322bed",
   "metadata": {},
   "outputs": [
    {
     "data": {
      "text/html": [
       "<div>\n",
       "<style scoped>\n",
       "    .dataframe tbody tr th:only-of-type {\n",
       "        vertical-align: middle;\n",
       "    }\n",
       "\n",
       "    .dataframe tbody tr th {\n",
       "        vertical-align: top;\n",
       "    }\n",
       "\n",
       "    .dataframe thead th {\n",
       "        text-align: right;\n",
       "    }\n",
       "</style>\n",
       "<table border=\"1\" class=\"dataframe\">\n",
       "  <thead>\n",
       "    <tr style=\"text-align: right;\">\n",
       "      <th></th>\n",
       "      <th>price</th>\n",
       "      <th>host_location</th>\n",
       "    </tr>\n",
       "  </thead>\n",
       "  <tbody>\n",
       "    <tr>\n",
       "      <th>0</th>\n",
       "      <td>75</td>\n",
       "      <td>Kensington</td>\n",
       "    </tr>\n",
       "    <tr>\n",
       "      <th>1</th>\n",
       "      <td>204</td>\n",
       "      <td>London</td>\n",
       "    </tr>\n",
       "    <tr>\n",
       "      <th>2</th>\n",
       "      <td>297</td>\n",
       "      <td>London</td>\n",
       "    </tr>\n",
       "    <tr>\n",
       "      <th>3</th>\n",
       "      <td>195</td>\n",
       "      <td>London</td>\n",
       "    </tr>\n",
       "    <tr>\n",
       "      <th>4</th>\n",
       "      <td>30</td>\n",
       "      <td>London</td>\n",
       "    </tr>\n",
       "    <tr>\n",
       "      <th>...</th>\n",
       "      <td>...</td>\n",
       "      <td>...</td>\n",
       "    </tr>\n",
       "    <tr>\n",
       "      <th>8434</th>\n",
       "      <td>150</td>\n",
       "      <td>London</td>\n",
       "    </tr>\n",
       "    <tr>\n",
       "      <th>8435</th>\n",
       "      <td>120</td>\n",
       "      <td>London</td>\n",
       "    </tr>\n",
       "    <tr>\n",
       "      <th>8436</th>\n",
       "      <td>80</td>\n",
       "      <td>Thames Ditton</td>\n",
       "    </tr>\n",
       "    <tr>\n",
       "      <th>8437</th>\n",
       "      <td>201</td>\n",
       "      <td>London</td>\n",
       "    </tr>\n",
       "    <tr>\n",
       "      <th>8438</th>\n",
       "      <td>246</td>\n",
       "      <td>London</td>\n",
       "    </tr>\n",
       "  </tbody>\n",
       "</table>\n",
       "<p>8439 rows × 2 columns</p>\n",
       "</div>"
      ],
      "text/plain": [
       "      price  host_location\n",
       "0        75     Kensington\n",
       "1       204         London\n",
       "2       297         London\n",
       "3       195         London\n",
       "4        30         London\n",
       "...     ...            ...\n",
       "8434    150         London\n",
       "8435    120         London\n",
       "8436     80  Thames Ditton\n",
       "8437    201         London\n",
       "8438    246         London\n",
       "\n",
       "[8439 rows x 2 columns]"
      ]
     },
     "execution_count": 4,
     "metadata": {},
     "output_type": "execute_result"
    }
   ],
   "source": [
    "#First display price and host location to get an idea about the columns.\n",
    "price_location=data[['price', 'host_location']]\n",
    "price_location"
   ]
  },
  {
   "cell_type": "code",
   "execution_count": 5,
   "id": "e595c865",
   "metadata": {},
   "outputs": [
    {
     "data": {
      "text/plain": [
       "309"
      ]
     },
     "execution_count": 5,
     "metadata": {},
     "output_type": "execute_result"
    }
   ],
   "source": [
    "data.host_location.nunique()"
   ]
  },
  {
   "cell_type": "code",
   "execution_count": 7,
   "id": "027156cc",
   "metadata": {},
   "outputs": [
    {
     "data": {
      "text/plain": [
       "London                  7704\n",
       "Twickenham                27\n",
       "Richmond                  25\n",
       "Kingston upon Thames      23\n",
       "Croydon                   14\n",
       "                        ... \n",
       "Loughton                   1\n",
       "Tilton on the Hill         1\n",
       "Lindfield                  1\n",
       "Begbroke                   1\n",
       "Rye                        1\n",
       "Name: host_location, Length: 309, dtype: int64"
      ]
     },
     "execution_count": 7,
     "metadata": {},
     "output_type": "execute_result"
    }
   ],
   "source": [
    "data.host_location.value_counts()"
   ]
  },
  {
   "cell_type": "code",
   "execution_count": 12,
   "id": "00e9882f",
   "metadata": {},
   "outputs": [
    {
     "name": "stdout",
     "output_type": "stream",
     "text": [
      "The average stay in each location:\n",
      "host_location\n",
      "Aberdeen          152.333333\n",
      "Aberystwyth        64.000000\n",
      "Addington         124.000000\n",
      "Ascot             300.000000\n",
      "Ashford            65.375000\n",
      "                     ...    \n",
      "Wolverton          87.000000\n",
      "Woodford           65.333333\n",
      "Worcester Park     37.000000\n",
      "Wraysbury          76.000000\n",
      "York              250.000000\n",
      "Name: price, Length: 309, dtype: float64\n"
     ]
    }
   ],
   "source": [
    "#Groupeby host location and calculate the average price for each location.\n",
    "Average_price_by_location=data.groupby(['host_location'])['price'].mean().\n",
    "#Display average price for each location using the function display_average_price from the tui module.\n",
    "tui.display_average_price_location(data)"
   ]
  },
  {
   "cell_type": "code",
   "execution_count": 20,
   "id": "5a070e09",
   "metadata": {},
   "outputs": [
    {
     "data": {
      "text/plain": [
       "host_location\n",
       "Shoreham-by-Sea        2357.50\n",
       "Rye                     850.00\n",
       "Horsham                 800.00\n",
       "Buscot                  700.00\n",
       "Butterleigh             638.00\n",
       "                        ...   \n",
       "Borehamwood              35.00\n",
       "Mitcham                  33.75\n",
       "Crediton                 32.00\n",
       "Staines-upon-Thames      31.00\n",
       "Rainham                  30.00\n",
       "Name: price, Length: 309, dtype: float64"
      ]
     },
     "execution_count": 20,
     "metadata": {},
     "output_type": "execute_result"
    }
   ],
   "source": [
    "#sort the values from to biggest to smallest.\n",
    "sorted_price=data.groupby(['host_location']).mean()['price'].sort_values(ascending=False)\n",
    "sorted_price"
   ]
  },
  {
   "cell_type": "markdown",
   "id": "da4001ac",
   "metadata": {},
   "source": [
    "Analyse the average review scores rating for each location"
   ]
  },
  {
   "cell_type": "code",
   "execution_count": null,
   "id": "8b41e1df",
   "metadata": {},
   "outputs": [],
   "source": [
    "#display host location and review scores values to understand the columns.\n",
    "data[['host_location', 'review_scores_value']]\n"
   ]
  },
  {
   "cell_type": "code",
   "execution_count": 9,
   "id": "9d456d1f",
   "metadata": {},
   "outputs": [
    {
     "data": {
      "text/plain": [
       "5.00    2080\n",
       "4.67     306\n",
       "4.50     295\n",
       "4.75     267\n",
       "4.80     263\n",
       "        ... \n",
       "3.20       1\n",
       "3.93       1\n",
       "3.13       1\n",
       "3.78       1\n",
       "3.83       1\n",
       "Name: review_scores_value, Length: 125, dtype: int64"
      ]
     },
     "execution_count": 9,
     "metadata": {},
     "output_type": "execute_result"
    }
   ],
   "source": [
    "#calculate the count of the review scores value\n",
    "data.review_scores_value.value_counts()"
   ]
  },
  {
   "cell_type": "code",
   "execution_count": 11,
   "id": "f5b112ca",
   "metadata": {},
   "outputs": [
    {
     "name": "stdout",
     "output_type": "stream",
     "text": [
      "The average review rate score for each location is:\n",
      "host_location\n",
      "Aberdeen          4.863333\n",
      "Aberystwyth       4.550000\n",
      "Addington         4.710000\n",
      "Ascot             5.000000\n",
      "Ashford           4.727500\n",
      "                    ...   \n",
      "Wolverton         4.960000\n",
      "Woodford          4.836667\n",
      "Worcester Park    4.625000\n",
      "Wraysbury         4.810000\n",
      "York              5.000000\n",
      "Name: review_scores_location, Length: 309, dtype: float64\n"
     ]
    }
   ],
   "source": [
    "#Groupby host location and calculate the review scores value for each location.\n",
    "average_review_score=data.groupby(['host_location'])['review_scores_value'].mean()\n",
    "#Display the avearge review scores for each location using the function display_average_review_location from tui module.\n",
    "tui.display_average_review_location(data)"
   ]
  },
  {
   "cell_type": "markdown",
   "id": "407148e9",
   "metadata": {},
   "source": [
    "Analyse the relation between super host and the price "
   ]
  },
  {
   "cell_type": "code",
   "execution_count": 21,
   "id": "e3692250",
   "metadata": {},
   "outputs": [
    {
     "data": {
      "text/plain": [
       "host_location\n",
       "Shrivenham             5.0000\n",
       "Hordle                 5.0000\n",
       "Purley                 5.0000\n",
       "Hurst Green            5.0000\n",
       "Salisbury              5.0000\n",
       "                        ...  \n",
       "Newcastle Upon Tyne    3.9600\n",
       "Great Chesterford      3.9000\n",
       "Ilford                 3.7725\n",
       "Birmingham             2.8200\n",
       "Skewen                 2.0000\n",
       "Name: review_scores_value, Length: 309, dtype: float64"
      ]
     },
     "execution_count": 21,
     "metadata": {},
     "output_type": "execute_result"
    }
   ],
   "source": [
    "sorted_score=data.groupby(['host_location']).mean()['review_scores_value'].sort_values(ascending=False)\n",
    "sorted_score"
   ]
  },
  {
   "cell_type": "code",
   "execution_count": null,
   "id": "7c85dcae",
   "metadata": {},
   "outputs": [],
   "source": [
    "#display price and host is superhost column.\n",
    "data[['host_is_superhost', 'price']]"
   ]
  },
  {
   "cell_type": "code",
   "execution_count": null,
   "id": "4304f2cb",
   "metadata": {},
   "outputs": [],
   "source": [
    "#display price and no superhost.\n",
    "not_super_host=data.loc[data.host_is_superhost ==False,['price', 'host_is_superhost']]\n",
    "not_super_host"
   ]
  },
  {
   "cell_type": "code",
   "execution_count": null,
   "id": "98f02d3c",
   "metadata": {},
   "outputs": [],
   "source": [
    "#display price and no superhost.\n",
    "super_host=data.loc[data.host_is_superhost ==True,['price', 'host_is_superhost']]\n",
    "super_host"
   ]
  },
  {
   "cell_type": "code",
   "execution_count": null,
   "id": "ce24ed50",
   "metadata": {},
   "outputs": [],
   "source": [
    "#How many not super_host (the count)\n",
    "number_not_superhost=data.loc[data.host_is_superhost ==False,['host_is_superhost']].count()"
   ]
  },
  {
   "cell_type": "code",
   "execution_count": null,
   "id": "d602e4f4",
   "metadata": {},
   "outputs": [],
   "source": [
    "#How many super_host (the count)\n",
    "number_superhost=data.loc[data.host_is_superhost ==True,['host_is_superhost']].count()"
   ]
  },
  {
   "cell_type": "code",
   "execution_count": 3,
   "id": "eedd2d55",
   "metadata": {},
   "outputs": [
    {
     "data": {
      "text/plain": [
       "host_is_superhost\n",
       "False    154.402367\n",
       "True     128.080628\n",
       "Name: price, dtype: float64"
      ]
     },
     "execution_count": 3,
     "metadata": {},
     "output_type": "execute_result"
    }
   ],
   "source": [
    "#get the average price of superhost and no superhost \n",
    "average_price=data.groupby(['host_is_superhost'])['price'].mean()\n",
    "#display the average price for not superhost and superhost by calling a function in the tui module.\n",
    "tui.display_average_price_host_is_superhost(data)\n"
   ]
  },
  {
   "cell_type": "code",
   "execution_count": null,
   "id": "dd62e06d",
   "metadata": {},
   "outputs": [],
   "source": []
  },
  {
   "cell_type": "code",
   "execution_count": null,
   "id": "c1377ba1",
   "metadata": {},
   "outputs": [],
   "source": []
  }
 ],
 "metadata": {
  "kernelspec": {
   "display_name": "Python 3 (ipykernel)",
   "language": "python",
   "name": "python3"
  },
  "language_info": {
   "codemirror_mode": {
    "name": "ipython",
    "version": 3
   },
   "file_extension": ".py",
   "mimetype": "text/x-python",
   "name": "python",
   "nbconvert_exporter": "python",
   "pygments_lexer": "ipython3",
   "version": "3.9.13"
  }
 },
 "nbformat": 4,
 "nbformat_minor": 5
}
