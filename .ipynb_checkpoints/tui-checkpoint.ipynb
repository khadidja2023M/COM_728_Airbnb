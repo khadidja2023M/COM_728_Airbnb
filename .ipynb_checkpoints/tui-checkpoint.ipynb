{
 "cells": [
  {
   "cell_type": "code",
   "execution_count": null,
   "id": "1230eb34",
   "metadata": {},
   "outputs": [],
   "source": [
    "#tui module\n",
    "\n",
    "#create a starting function that will indicate the start of the programme\n",
    "def started(msg=\"\"):  \n",
    "    dashes=('#')*75\n",
    "    print(dashes)\n",
    "    print(f\"Operation started: {msg}...\\n\")\n",
    "    \n",
    "#create a completed function that will indicate the end of the programme    \n",
    "def completed():\n",
    "    print(\"Operation completed.\")\n",
    "    dashes=('#')*75\n",
    "    print(dashes)\n",
    "    \n",
    "#Create a main menu to give the user a chance to choose what he wants to do.    \n",
    "def main_menu():\n",
    "    print(f\"\"\"select which menu would you like:\n",
    "    {\"[first]\":<6}:Retrieve data.\\n   \n",
    "    {\"[second]\":<6}:Analyse data.\\n\n",
    "    {\"[third]\":<6}:visualise data.\\n\n",
    "    {\"[exit]\":<6}:Exit the programme.\"\"\")\n",
    "    #Input for the user to enter his selection.\n",
    "    selection=input('your selection: ')\n",
    "    # strip and lower if the user unter capital letter and strip to remove the spaces. \n",
    "    return selection.strip().lower()     \n",
    "                  \n",
    "#error function\n",
    "def error():  \n",
    "        print(\"Invalid Selection!\")\n",
    "\n",
    "#this function display the results of the function listing by id in the process module as a dictionnary.       \n",
    "def display_listing_by_id(ID):\n",
    "    print(f\"host_name:{ID['host_name']}\\ndescription:{ID['description']}\\nhost_location:{ID['location']}\\nhost_since:{ID['host_since']}\")\n",
    "    \n",
    "#this function display the results of the function listing for specified location in the process module as a dictionnary.       \n",
    "def display_listing_for_specified_location(location):\n",
    "    print(f\"host name:{location[0]}\\nproperty type:{location[1]}\\nprice:{location[2]}\\nminimum nights:{location[3]}\\nmaximum nights:{location[4]}\\n\") \n",
    "    print('-'*50)\n",
    "    \n",
    "#this function display the results of the function listing by property type in the process module as a dictionnary.   \n",
    "def display_listing_by_property_type(property_type):\n",
    "    print(f\"room type:{property_type['room_type']}\\naccomodates:{property_type['accomodates']}\\nbathrooms:{property_type['bathrooms']}\\nbedroom:{property_type['bedroom']}\\nbeds:{property_type['beds']}\\n\") \n",
    "    print('-'*50)\n",
    "    \n",
    "#this function display the results of the function listing by location in the process module as a dictionnary.                \n",
    "def display_listing_by_location(Location):\n",
    "    print(f\"review_scores_cleanliness:{Location[0]}\\nreview_scores_communication:{Location[1]}\\nreview_scores_checkin:{Location[2]}\\nreview_scores_rating:{Location[3]}\\n\") \n",
    "    print('-'*50)                \n"
   ]
  }
 ],
 "metadata": {
  "kernelspec": {
   "display_name": "Python 3 (ipykernel)",
   "language": "python",
   "name": "python3"
  },
  "language_info": {
   "codemirror_mode": {
    "name": "ipython",
    "version": 3
   },
   "file_extension": ".py",
   "mimetype": "text/x-python",
   "name": "python",
   "nbconvert_exporter": "python",
   "pygments_lexer": "ipython3",
   "version": "3.9.13"
  }
 },
 "nbformat": 4,
 "nbformat_minor": 5
}
