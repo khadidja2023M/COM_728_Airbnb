{
 "cells": [
  {
   "cell_type": "code",
   "execution_count": 1,
   "id": "9dbfa38f",
   "metadata": {},
   "outputs": [
    {
     "name": "stdout",
     "output_type": "stream",
     "text": [
      "Enter the file path: Airbnb_UK_2022.csv\n",
      "###########################################################################\n",
      "Operation started: Reading data from file path...\n",
      "\n",
      "Operation completed.\n",
      "###########################################################################\n",
      "select which menu would you like:\n",
      "    \n",
      "    [1]   :List name of listing, host name, description, host location, host since by host id.\n",
      " \n",
      "    \n",
      "    [2]   :List host name, property type, price, minimum_nights and maximum_nights by location.\n",
      "\n",
      "    \n",
      "    [3]   :List room type, accommodates, bathrooms, bedroom and beds for a specified property type.\n",
      "\n",
      "    \n",
      "    [4]   :List review scores of cleanliness, checkin, communication and rating by location.\n",
      "                 \n",
      "    \n",
      "    [exit]:Exit the programme.\n",
      "    \n",
      "your selection: exit\n"
     ]
    }
   ],
   "source": [
    "# Main module \n",
    "\n",
    "import tui\n",
    "import process        \n",
    "import os\n",
    "%matplotlib inline \n",
    "import matplotlib.pyplot as plt    \n",
    "\n",
    "\n",
    "def run():\n",
    "    #ask the user to enter the file path.\n",
    "    file_path = input(\"Enter the file path: \")\n",
    "    data =[]\n",
    "    #use os to check file path , call the function load data in the process module if the path exist.\n",
    "    if os.path.exists(file_path):\n",
    "        data=process.load_data(file_path)\n",
    "    else: \n",
    "        print('envalid file path')\n",
    "    tui.completed()\n",
    "    #while the user selecting one of the options the loop keeps looping and when the user select exit stop the programme.\n",
    "    running=True\n",
    "    while running:\n",
    "        menu_selection = tui.menu()\n",
    "        \n",
    "        \n",
    "        if  menu_selection=='1':\n",
    "            process.listing_by_id(data)\n",
    "        elif menu_selection=='2':\n",
    "            process.listing_for_specified_location(data)\n",
    "        elif menu_selection =='3': \n",
    "            process.listing_by_property_type(data)\n",
    "        elif menu_selection=='4':\n",
    "            process.listing_by_location(data)\n",
    "        elif menu_selection == 'exit':\n",
    "            running=False\n",
    "            break\n",
    "        else:\n",
    "            tui.error()\n",
    "            \n",
    "            \n",
    "\n",
    "if __name__== \"__main__\":\n",
    "    \n",
    "\n",
    "    run()\n",
    "\n",
    "\n"
   ]
  },
  {
   "cell_type": "markdown",
   "id": "1dc3025b",
   "metadata": {},
   "source": [
    "Load the data from CSV file using pandas"
   ]
  },
  {
   "cell_type": "code",
   "execution_count": 2,
   "id": "2f86f302",
   "metadata": {},
   "outputs": [
    {
     "data": {
      "text/html": [
       "<div>\n",
       "<style scoped>\n",
       "    .dataframe tbody tr th:only-of-type {\n",
       "        vertical-align: middle;\n",
       "    }\n",
       "\n",
       "    .dataframe tbody tr th {\n",
       "        vertical-align: top;\n",
       "    }\n",
       "\n",
       "    .dataframe thead th {\n",
       "        text-align: right;\n",
       "    }\n",
       "</style>\n",
       "<table border=\"1\" class=\"dataframe\">\n",
       "  <thead>\n",
       "    <tr style=\"text-align: right;\">\n",
       "      <th></th>\n",
       "      <th>host_id</th>\n",
       "      <th>name</th>\n",
       "      <th>description</th>\n",
       "      <th>host_name</th>\n",
       "      <th>host_since</th>\n",
       "      <th>host_location</th>\n",
       "      <th>host_response_time</th>\n",
       "      <th>host_response_rate</th>\n",
       "      <th>host_acceptance_rate</th>\n",
       "      <th>host_is_superhost</th>\n",
       "      <th>...</th>\n",
       "      <th>number_of_reviews</th>\n",
       "      <th>first_review</th>\n",
       "      <th>last_review</th>\n",
       "      <th>review_scores_rating</th>\n",
       "      <th>review_scores_accuracy</th>\n",
       "      <th>review_scores_cleanliness</th>\n",
       "      <th>review_scores_checkin</th>\n",
       "      <th>review_scores_communication</th>\n",
       "      <th>review_scores_location</th>\n",
       "      <th>review_scores_value</th>\n",
       "    </tr>\n",
       "  </thead>\n",
       "  <tbody>\n",
       "    <tr>\n",
       "      <th>0</th>\n",
       "      <td>60302</td>\n",
       "      <td>Bright Chelsea  Apartment. Chelsea!</td>\n",
       "      <td>lots of windows and light  st luke s gardens a...</td>\n",
       "      <td>Philippa</td>\n",
       "      <td>05-12-09</td>\n",
       "      <td>Kensington</td>\n",
       "      <td>within an hour</td>\n",
       "      <td>67%</td>\n",
       "      <td>29%</td>\n",
       "      <td>False</td>\n",
       "      <td>...</td>\n",
       "      <td>89</td>\n",
       "      <td>21-12-09</td>\n",
       "      <td>16-03-20</td>\n",
       "      <td>4.79</td>\n",
       "      <td>4.84</td>\n",
       "      <td>4.88</td>\n",
       "      <td>4.87</td>\n",
       "      <td>4.82</td>\n",
       "      <td>4.93</td>\n",
       "      <td>4.73</td>\n",
       "    </tr>\n",
       "    <tr>\n",
       "      <th>1</th>\n",
       "      <td>554519</td>\n",
       "      <td>JESSIE the narrowboat in Little Venice</td>\n",
       "      <td>jessie the narrowboat is moored in the heart o...</td>\n",
       "      <td>Meg</td>\n",
       "      <td>03-05-11</td>\n",
       "      <td>London</td>\n",
       "      <td>within an hour</td>\n",
       "      <td>100%</td>\n",
       "      <td>100%</td>\n",
       "      <td>True</td>\n",
       "      <td>...</td>\n",
       "      <td>581</td>\n",
       "      <td>04-07-11</td>\n",
       "      <td>02-09-22</td>\n",
       "      <td>4.91</td>\n",
       "      <td>4.94</td>\n",
       "      <td>4.90</td>\n",
       "      <td>4.97</td>\n",
       "      <td>4.96</td>\n",
       "      <td>4.98</td>\n",
       "      <td>4.77</td>\n",
       "    </tr>\n",
       "    <tr>\n",
       "      <th>2</th>\n",
       "      <td>1481851</td>\n",
       "      <td>Notting Hill church stay in Heaven!</td>\n",
       "      <td>the spaceoverview located   min walk away from...</td>\n",
       "      <td>Tania</td>\n",
       "      <td>07-12-11</td>\n",
       "      <td>London</td>\n",
       "      <td>within a few hours</td>\n",
       "      <td>100%</td>\n",
       "      <td>86%</td>\n",
       "      <td>True</td>\n",
       "      <td>...</td>\n",
       "      <td>6</td>\n",
       "      <td>16-07-12</td>\n",
       "      <td>04-07-22</td>\n",
       "      <td>4.83</td>\n",
       "      <td>4.83</td>\n",
       "      <td>5.00</td>\n",
       "      <td>5.00</td>\n",
       "      <td>5.00</td>\n",
       "      <td>5.00</td>\n",
       "      <td>4.83</td>\n",
       "    </tr>\n",
       "    <tr>\n",
       "      <th>3</th>\n",
       "      <td>41759</td>\n",
       "      <td>Battersea live/work artist house, garden communal</td>\n",
       "      <td>artist house  bright high ceiling rooms for bo...</td>\n",
       "      <td>Joe</td>\n",
       "      <td>28-09-09</td>\n",
       "      <td>London</td>\n",
       "      <td>within a day</td>\n",
       "      <td>100%</td>\n",
       "      <td>50%</td>\n",
       "      <td>False</td>\n",
       "      <td>...</td>\n",
       "      <td>96</td>\n",
       "      <td>15-11-10</td>\n",
       "      <td>19-07-22</td>\n",
       "      <td>4.90</td>\n",
       "      <td>4.89</td>\n",
       "      <td>4.91</td>\n",
       "      <td>4.90</td>\n",
       "      <td>4.93</td>\n",
       "      <td>4.59</td>\n",
       "      <td>4.65</td>\n",
       "    </tr>\n",
       "    <tr>\n",
       "      <th>4</th>\n",
       "      <td>586671</td>\n",
       "      <td>DOUBLE ROOM NEAR CENTRAL LONDON</td>\n",
       "      <td>the spaceone lovely double bed and breakfastro...</td>\n",
       "      <td>Joe</td>\n",
       "      <td>14-05-11</td>\n",
       "      <td>London</td>\n",
       "      <td>within a day</td>\n",
       "      <td>90%</td>\n",
       "      <td>84%</td>\n",
       "      <td>True</td>\n",
       "      <td>...</td>\n",
       "      <td>32</td>\n",
       "      <td>06-07-13</td>\n",
       "      <td>08-09-22</td>\n",
       "      <td>4.91</td>\n",
       "      <td>4.97</td>\n",
       "      <td>4.88</td>\n",
       "      <td>5.00</td>\n",
       "      <td>5.00</td>\n",
       "      <td>4.72</td>\n",
       "      <td>4.88</td>\n",
       "    </tr>\n",
       "  </tbody>\n",
       "</table>\n",
       "<p>5 rows × 34 columns</p>\n",
       "</div>"
      ],
      "text/plain": [
       "   host_id                                               name  \\\n",
       "0    60302                Bright Chelsea  Apartment. Chelsea!   \n",
       "1   554519             JESSIE the narrowboat in Little Venice   \n",
       "2  1481851                Notting Hill church stay in Heaven!   \n",
       "3    41759  Battersea live/work artist house, garden communal   \n",
       "4   586671                    DOUBLE ROOM NEAR CENTRAL LONDON   \n",
       "\n",
       "                                         description host_name host_since  \\\n",
       "0  lots of windows and light  st luke s gardens a...  Philippa   05-12-09   \n",
       "1  jessie the narrowboat is moored in the heart o...       Meg   03-05-11   \n",
       "2  the spaceoverview located   min walk away from...     Tania   07-12-11   \n",
       "3  artist house  bright high ceiling rooms for bo...       Joe   28-09-09   \n",
       "4  the spaceone lovely double bed and breakfastro...       Joe   14-05-11   \n",
       "\n",
       "  host_location  host_response_time host_response_rate host_acceptance_rate  \\\n",
       "0    Kensington      within an hour                67%                  29%   \n",
       "1        London      within an hour               100%                 100%   \n",
       "2        London  within a few hours               100%                  86%   \n",
       "3        London        within a day               100%                  50%   \n",
       "4        London        within a day                90%                  84%   \n",
       "\n",
       "   host_is_superhost  ...  number_of_reviews first_review  last_review  \\\n",
       "0              False  ...                 89     21-12-09     16-03-20   \n",
       "1               True  ...                581     04-07-11     02-09-22   \n",
       "2               True  ...                  6     16-07-12     04-07-22   \n",
       "3              False  ...                 96     15-11-10     19-07-22   \n",
       "4               True  ...                 32     06-07-13     08-09-22   \n",
       "\n",
       "  review_scores_rating review_scores_accuracy  review_scores_cleanliness  \\\n",
       "0                 4.79                   4.84                       4.88   \n",
       "1                 4.91                   4.94                       4.90   \n",
       "2                 4.83                   4.83                       5.00   \n",
       "3                 4.90                   4.89                       4.91   \n",
       "4                 4.91                   4.97                       4.88   \n",
       "\n",
       "  review_scores_checkin  review_scores_communication  review_scores_location  \\\n",
       "0                  4.87                         4.82                    4.93   \n",
       "1                  4.97                         4.96                    4.98   \n",
       "2                  5.00                         5.00                    5.00   \n",
       "3                  4.90                         4.93                    4.59   \n",
       "4                  5.00                         5.00                    4.72   \n",
       "\n",
       "  review_scores_value  \n",
       "0                4.73  \n",
       "1                4.77  \n",
       "2                4.83  \n",
       "3                4.65  \n",
       "4                4.88  \n",
       "\n",
       "[5 rows x 34 columns]"
      ]
     },
     "execution_count": 2,
     "metadata": {},
     "output_type": "execute_result"
    }
   ],
   "source": [
    "import pandas as pd \n",
    "#read csv file using pandas.\n",
    "data=pd.read_csv(\"Airbnb_UK_2022.csv\", header=0)\n",
    "data.head()\n",
    "    "
   ]
  },
  {
   "cell_type": "markdown",
   "id": "e2674f83",
   "metadata": {},
   "source": [
    "Data exploration"
   ]
  },
  {
   "cell_type": "code",
   "execution_count": null,
   "id": "429a766d",
   "metadata": {},
   "outputs": [],
   "source": [
    "#display columns names.\n",
    "data.columns"
   ]
  },
  {
   "cell_type": "code",
   "execution_count": null,
   "id": "db2b9f88",
   "metadata": {},
   "outputs": [],
   "source": [
    " #discover how many columns and rows the data has using shape method.\n",
    "data.shape"
   ]
  },
  {
   "cell_type": "markdown",
   "id": "3e740d81",
   "metadata": {},
   "source": [
    "Identifying the most popular amenities that Airbnb guests are looking for"
   ]
  },
  {
   "cell_type": "code",
   "execution_count": null,
   "id": "6c01bbdb",
   "metadata": {},
   "outputs": [],
   "source": [
    "#First print amenities column to have an idea about the column.\n",
    "data['amenities']"
   ]
  },
  {
   "cell_type": "code",
   "execution_count": null,
   "id": "054298d2",
   "metadata": {},
   "outputs": [],
   "source": [
    "#Use describe on amenities column to find popular amenities (the top).\n",
    "data['amenities'].describe()\n"
   ]
  },
  {
   "cell_type": "code",
   "execution_count": null,
   "id": "046d8e3b",
   "metadata": {},
   "outputs": [],
   "source": [
    "#Use mode function to get just the popular amenities.\n",
    "#the most popular amenities are the ones repeated most which is the mode .\n",
    "popular_amenities=data['amenities'].mode()\n",
    "popular_amenities"
   ]
  },
  {
   "cell_type": "code",
   "execution_count": 3,
   "id": "eabd4702",
   "metadata": {},
   "outputs": [
    {
     "name": "stdout",
     "output_type": "stream",
     "text": [
      "###########################################################################\n",
      "Operation started: display the  most popular amenities:...\n",
      "\n",
      "the most popular amenities are:['[\"Washer\", \"Long term stays allowed\", \"TV\", \"Smoke alarm\", \"Carbon monoxide alarm\", \"Kitchen\", \"Wifi\"]']\n",
      "Operation completed.\n",
      "###########################################################################\n"
     ]
    }
   ],
   "source": [
    "#Use display_amenities function from the tui module to display popular amenities in a list.\n",
    "process.popular_amenities(data)"
   ]
  },
  {
   "cell_type": "markdown",
   "id": "f761e578",
   "metadata": {},
   "source": [
    "Analyse the Average price of stay in each location "
   ]
  },
  {
   "cell_type": "code",
   "execution_count": null,
   "id": "0b322bed",
   "metadata": {},
   "outputs": [],
   "source": [
    "#First display price and host location to get an idea about the columns.\n",
    "price_location=data[['price', 'host_location']]\n",
    "price_location"
   ]
  },
  {
   "cell_type": "code",
   "execution_count": null,
   "id": "e595c865",
   "metadata": {},
   "outputs": [],
   "source": [
    "data.host_location.nunique()"
   ]
  },
  {
   "cell_type": "code",
   "execution_count": null,
   "id": "027156cc",
   "metadata": {},
   "outputs": [],
   "source": [
    "data.host_location.value_counts()"
   ]
  },
  {
   "cell_type": "code",
   "execution_count": 4,
   "id": "00e9882f",
   "metadata": {},
   "outputs": [
    {
     "name": "stdout",
     "output_type": "stream",
     "text": [
      "###########################################################################\n",
      "Operation started: display average price by location:...\n",
      "\n",
      "The average stay in each location:\n",
      "host_location\n",
      "Aberdeen          152.333333\n",
      "Aberystwyth        64.000000\n",
      "Addington         124.000000\n",
      "Ascot             300.000000\n",
      "Ashford            65.375000\n",
      "                     ...    \n",
      "Wolverton          87.000000\n",
      "Woodford           65.333333\n",
      "Worcester Park     37.000000\n",
      "Wraysbury          76.000000\n",
      "York              250.000000\n",
      "Name: price, Length: 309, dtype: float64\n",
      "Operation completed.\n",
      "###########################################################################\n"
     ]
    }
   ],
   "source": [
    "#Groupeby host location and calculate the average price for each location.\n",
    "average_stay_location=data.groupby(['host_location'])['price'].mean()\n",
    "#Display average price for each location using the function display_average_price from the tui module.\n",
    "process.average_price_location(data)"
   ]
  },
  {
   "cell_type": "code",
   "execution_count": 5,
   "id": "5a070e09",
   "metadata": {},
   "outputs": [
    {
     "data": {
      "text/plain": [
       "host_location\n",
       "Shoreham-by-Sea        2357.50\n",
       "Rye                     850.00\n",
       "Horsham                 800.00\n",
       "Buscot                  700.00\n",
       "Butterleigh             638.00\n",
       "                        ...   \n",
       "Borehamwood              35.00\n",
       "Mitcham                  33.75\n",
       "Crediton                 32.00\n",
       "Staines-upon-Thames      31.00\n",
       "Rainham                  30.00\n",
       "Name: price, Length: 309, dtype: float64"
      ]
     },
     "execution_count": 5,
     "metadata": {},
     "output_type": "execute_result"
    }
   ],
   "source": [
    "#sort the values from to biggest to smallest.\n",
    "sorted_price=data.groupby(['host_location'])['price'].mean().sort_values(ascending=False)\n",
    "sorted_price"
   ]
  },
  {
   "cell_type": "markdown",
   "id": "da4001ac",
   "metadata": {},
   "source": [
    "Analyse the average review scores rating for each location"
   ]
  },
  {
   "cell_type": "code",
   "execution_count": null,
   "id": "8b41e1df",
   "metadata": {},
   "outputs": [],
   "source": [
    "#display host location and review scores values to understand the columns.\n",
    "data[['host_location', 'review_scores_value']]\n"
   ]
  },
  {
   "cell_type": "code",
   "execution_count": null,
   "id": "9d456d1f",
   "metadata": {},
   "outputs": [],
   "source": [
    "#calculate the count of the review scores value\n",
    "data.review_scores_value.value_counts()"
   ]
  },
  {
   "cell_type": "code",
   "execution_count": 6,
   "id": "f5b112ca",
   "metadata": {},
   "outputs": [
    {
     "name": "stdout",
     "output_type": "stream",
     "text": [
      "###########################################################################\n",
      "Operation started: display the average review scores rating:...\n",
      "\n",
      "The average review rate score for each location is:\n",
      "host_location\n",
      "Aberdeen          4.863333\n",
      "Aberystwyth       4.550000\n",
      "Addington         4.710000\n",
      "Ascot             5.000000\n",
      "Ashford           4.727500\n",
      "                    ...   \n",
      "Wolverton         4.960000\n",
      "Woodford          4.836667\n",
      "Worcester Park    4.625000\n",
      "Wraysbury         4.810000\n",
      "York              5.000000\n",
      "Name: review_scores_location, Length: 309, dtype: float64\n",
      "Operation completed.\n",
      "###########################################################################\n"
     ]
    }
   ],
   "source": [
    "#Groupby host location and calculate the review scores value for each location.\n",
    "average_review_score=data.groupby(['host_location'])['review_scores_value'].mean()\n",
    "#Display the average review scores for each location using the function display_average_review_location from tui module.\n",
    "process.average_review_location(data)"
   ]
  },
  {
   "cell_type": "markdown",
   "id": "407148e9",
   "metadata": {},
   "source": [
    "Analyse the relation between super host and the price "
   ]
  },
  {
   "cell_type": "code",
   "execution_count": null,
   "id": "e3692250",
   "metadata": {},
   "outputs": [],
   "source": [
    "sorted_score=data.groupby(['host_location'])['review_scores_value'].mean().sort_values(ascending=False)\n",
    "sorted_score"
   ]
  },
  {
   "cell_type": "code",
   "execution_count": null,
   "id": "7c85dcae",
   "metadata": {},
   "outputs": [],
   "source": [
    "#display price and host is superhost column.\n",
    "data[['host_is_superhost', 'price']]"
   ]
  },
  {
   "cell_type": "code",
   "execution_count": null,
   "id": "4304f2cb",
   "metadata": {},
   "outputs": [],
   "source": [
    "#display price and no superhost.\n",
    "not_super_host=data.loc[data.host_is_superhost ==False,['price', 'host_is_superhost']]\n",
    "not_super_host"
   ]
  },
  {
   "cell_type": "code",
   "execution_count": null,
   "id": "98f02d3c",
   "metadata": {},
   "outputs": [],
   "source": [
    "#display price and no superhost.\n",
    "super_host=data.loc[data.host_is_superhost ==True,['price', 'host_is_superhost']]\n",
    "super_host"
   ]
  },
  {
   "cell_type": "code",
   "execution_count": null,
   "id": "ce24ed50",
   "metadata": {},
   "outputs": [],
   "source": [
    "#How many not super_host (the count)\n",
    "number_not_superhost=data.loc[data.host_is_superhost ==False,['host_is_superhost']].count()"
   ]
  },
  {
   "cell_type": "code",
   "execution_count": null,
   "id": "d602e4f4",
   "metadata": {},
   "outputs": [],
   "source": [
    "#How many super_host (the count)\n",
    "number_superhost=data.loc[data.host_is_superhost ==True,['host_is_superhost']].count()"
   ]
  },
  {
   "cell_type": "code",
   "execution_count": 7,
   "id": "eedd2d55",
   "metadata": {},
   "outputs": [
    {
     "name": "stdout",
     "output_type": "stream",
     "text": [
      "###########################################################################\n",
      "Operation started: display average price for host is superhost:...\n",
      "\n",
      "the average price of host is super host or not is:[154.40236686 128.08062771]\n",
      "Operation completed.\n",
      "###########################################################################\n"
     ]
    }
   ],
   "source": [
    "#get the average price of superhost and no superhost \n",
    "average_price=data.groupby(['host_is_superhost'])['price'].mean()\n",
    "#display the average price for not superhost and superhost by calling a function in the tui module.\n",
    "process.average_price_host_is_superhost(data)\n"
   ]
  },
  {
   "cell_type": "markdown",
   "id": "e6cfe39d",
   "metadata": {},
   "source": [
    "Display the proportion of number of bedrooms of Airbnb listing using pie chart"
   ]
  },
  {
   "cell_type": "code",
   "execution_count": null,
   "id": "dd62e06d",
   "metadata": {},
   "outputs": [],
   "source": [
    "data['bedrooms']"
   ]
  },
  {
   "cell_type": "code",
   "execution_count": 14,
   "id": "c1377ba1",
   "metadata": {},
   "outputs": [
    {
     "data": {
      "text/plain": [
       "bedrooms\n",
       "1     5593\n",
       "2     1756\n",
       "3      741\n",
       "4      263\n",
       "5       69\n",
       "6       15\n",
       "7        1\n",
       "10       1\n",
       "dtype: int64"
      ]
     },
     "execution_count": 14,
     "metadata": {},
     "output_type": "execute_result"
    }
   ],
   "source": [
    "data.groupby('bedrooms').size().sort_values(ascending=False)"
   ]
  },
  {
   "cell_type": "code",
   "execution_count": 15,
   "id": "36c48437",
   "metadata": {},
   "outputs": [],
   "source": [
    "bedrooms_group=data.groupby('bedrooms').size()"
   ]
  },
  {
   "cell_type": "code",
   "execution_count": 16,
   "id": "23ff3ef9",
   "metadata": {},
   "outputs": [
    {
     "data": {
      "text/plain": [
       "[1, 2, 3, 4, 5, 6, 7, 10]"
      ]
     },
     "execution_count": 16,
     "metadata": {},
     "output_type": "execute_result"
    }
   ],
   "source": [
    "bedrooms_group_list =bedrooms_group.index.tolist()\n",
    "bedrooms_group_list"
   ]
  },
  {
   "cell_type": "code",
   "execution_count": 17,
   "id": "96fd17f6",
   "metadata": {},
   "outputs": [
    {
     "data": {
      "text/plain": [
       "[5593, 1756, 741, 263, 69, 15, 1, 1]"
      ]
     },
     "execution_count": 17,
     "metadata": {},
     "output_type": "execute_result"
    }
   ],
   "source": [
    "bedrooms_list =bedrooms_group.tolist()\n",
    "bedrooms_list"
   ]
  },
  {
   "cell_type": "code",
   "execution_count": 18,
   "id": "2d0b1967",
   "metadata": {},
   "outputs": [
    {
     "data": {
      "image/png": "[encoded data removed]",
      "text/plain": [
       "<Figure size 1000x600 with 1 Axes>"
      ]
     },
     "metadata": {},
     "output_type": "display_data"
    }
   ],
   "source": [
    "fig = plt.figure(figsize=(10,6))\n",
    "\n",
    "plt.pie(bedrooms_list ,labels=bedrooms_group_list, autopct='%1.1f%%')\n",
    "plt.title(\"The proportion of number of bedrooms of Airbnb\")\n",
    "\n",
    "plt.legend(loc=\"best\",bbox_to_anchor=(1.2,1))\n",
    "\n",
    "plt.show()"
   ]
  },
  {
   "cell_type": "markdown",
   "id": "7d4a15b8",
   "metadata": {},
   "source": [
    "Display the number of listings for each room type using bar chart\t"
   ]
  },
  {
   "cell_type": "code",
   "execution_count": null,
   "id": "8dec2e4e",
   "metadata": {},
   "outputs": [],
   "source": [
    "data['room_type']"
   ]
  },
  {
   "cell_type": "code",
   "execution_count": 9,
   "id": "5e8d72c2",
   "metadata": {},
   "outputs": [
    {
     "data": {
      "text/plain": [
       "0                     Bright Chelsea  Apartment. Chelsea!\n",
       "1                  JESSIE the narrowboat in Little Venice\n",
       "2                     Notting Hill church stay in Heaven!\n",
       "3       Battersea live/work artist house, garden communal\n",
       "4                         DOUBLE ROOM NEAR CENTRAL LONDON\n",
       "                              ...                        \n",
       "8434                 Unique boat living in central London\n",
       "8435    A Beautiful Room with River Views. CENTRAL LONDON\n",
       "8436                 Cosy 2 bed and breakfast family home\n",
       "8437                               River view Tate Modern\n",
       "8438    Luxury 4 bed and breakfast house, 100m to rive...\n",
       "Name: name, Length: 8439, dtype: object"
      ]
     },
     "execution_count": 9,
     "metadata": {},
     "output_type": "execute_result"
    }
   ],
   "source": [
    "listing_names=data['name']\n",
    "listing_names"
   ]
  },
  {
   "cell_type": "code",
   "execution_count": 10,
   "id": "81c79af4",
   "metadata": {},
   "outputs": [
    {
     "data": {
      "text/plain": [
       "room_type\n",
       "Hotel room         1\n",
       "Private room    3010\n",
       "Shared room       14\n",
       "home/apt        5414\n",
       "Name: name, dtype: int64"
      ]
     },
     "execution_count": 10,
     "metadata": {},
     "output_type": "execute_result"
    }
   ],
   "source": [
    "listing_room_type = data.groupby('room_type')['name'].count()\n",
    "listing_room_type"
   ]
  },
  {
   "cell_type": "code",
   "execution_count": 11,
   "id": "9301773d",
   "metadata": {},
   "outputs": [
    {
     "data": {
      "text/plain": [
       "['Hotel room', 'Private room', 'Shared room', 'home/apt']"
      ]
     },
     "execution_count": 11,
     "metadata": {},
     "output_type": "execute_result"
    }
   ],
   "source": [
    "room_type_group=data.groupby('room_type').size()\n",
    "x=room_type_group.index.tolist()\n",
    "x"
   ]
  },
  {
   "cell_type": "code",
   "execution_count": null,
   "id": "8e29d646",
   "metadata": {},
   "outputs": [],
   "source": [
    "y=listing_room_type.tolist()\n",
    "y"
   ]
  },
  {
   "cell_type": "code",
   "execution_count": 12,
   "id": "c7e298c4",
   "metadata": {},
   "outputs": [
    {
     "data": {
      "image/png": "[encoded data removed]",
      "text/plain": [
       "<Figure size 640x480 with 1 Axes>"
      ]
     },
     "metadata": {},
     "output_type": "display_data"
    }
   ],
   "source": [
    "x=room_type_group.index.tolist()\n",
    "y=listing_room_type.tolist()\n",
    "\n",
    "\n",
    "fig = plt.figure() \n",
    "\n",
    "\n",
    "plt.bar(x,y, label=\"Number of data\")# plotting the graph\n",
    "\n",
    "plt.xlabel(\"Room type\") # create a label for x-axis\n",
    "plt.ylabel(\"The number of listing\") # create a label for y-axis\n",
    "\n",
    "plt.title(\"the number of listings for each room type\") # create a title for your graph \n",
    "\n",
    "plt.legend() # create a legend\n",
    "\n",
    "plt.show() # show the graph"
   ]
  },
  {
   "cell_type": "markdown",
   "id": "2eb81d4e",
   "metadata": {},
   "source": [
    "Display the relationship between accommodates and price using scatter plot\t"
   ]
  },
  {
   "cell_type": "code",
   "execution_count": null,
   "id": "c1e0d8a8",
   "metadata": {},
   "outputs": [],
   "source": [
    "#accommodates is the maximum capasity of the listing\n",
    "data['accommodates'] "
   ]
  },
  {
   "cell_type": "code",
   "execution_count": null,
   "id": "98ed2065",
   "metadata": {},
   "outputs": [],
   "source": [
    "data['price']"
   ]
  },
  {
   "cell_type": "code",
   "execution_count": 7,
   "id": "1996d5e8",
   "metadata": {},
   "outputs": [
    {
     "data": {
      "image/png": "[encoded data removed]",
      "text/plain": [
       "<Figure size 1500x800 with 1 Axes>"
      ]
     },
     "metadata": {},
     "output_type": "display_data"
    }
   ],
   "source": [
    "fig = plt.figure(figsize=(15,8)) #Create figure object and set up the size of figure\n",
    "\n",
    "plt.scatter(data[\"accommodates\"], data[\"price\"], marker='D', s=100)\n",
    "plt.xlabel('Accommodates')\n",
    "plt.ylabel('Price')\n",
    "plt.title('Accommodates vs Price')\n",
    "plt.show()"
   ]
  },
  {
   "cell_type": "markdown",
   "id": "73b7aa2f",
   "metadata": {},
   "source": [
    "Display Airbnb prices from 2019 - 2022 with line chart using subplots (one year per plot)"
   ]
  },
  {
   "cell_type": "code",
   "execution_count": 3,
   "id": "af29111b",
   "metadata": {},
   "outputs": [
    {
     "data": {
      "text/plain": [
       "array(['05-12-09', '03-05-11', '07-12-11', ..., '02-07-09', '09-09-11',\n",
       "       '06-02-12'], dtype=object)"
      ]
     },
     "execution_count": 3,
     "metadata": {},
     "output_type": "execute_result"
    }
   ],
   "source": [
    "data['host_since'].values"
   ]
  },
  {
   "cell_type": "code",
   "execution_count": 4,
   "id": "a75a2974",
   "metadata": {},
   "outputs": [
    {
     "data": {
      "text/plain": [
       "host_since\n",
       "01-01-11     1\n",
       "16-06-12     1\n",
       "16-05-22     1\n",
       "16-05-18     1\n",
       "16-05-11     1\n",
       "            ..\n",
       "16-11-14    12\n",
       "05-05-15    12\n",
       "02-07-13    13\n",
       "17-03-12    18\n",
       "18-03-12    25\n",
       "Length: 3007, dtype: int64"
      ]
     },
     "execution_count": 4,
     "metadata": {},
     "output_type": "execute_result"
    }
   ],
   "source": [
    "price_year= data.groupby('host_since').size().sort_values(ascending=True)\n",
    "price_year\n"
   ]
  },
  {
   "cell_type": "code",
   "execution_count": null,
   "id": "4302b937",
   "metadata": {},
   "outputs": [],
   "source": [
    "x=price_year.tolist\n",
    "x"
   ]
  },
  {
   "cell_type": "code",
   "execution_count": 5,
   "id": "918a0b54",
   "metadata": {},
   "outputs": [
    {
     "data": {
      "text/html": [
       "<div>\n",
       "<style scoped>\n",
       "    .dataframe tbody tr th:only-of-type {\n",
       "        vertical-align: middle;\n",
       "    }\n",
       "\n",
       "    .dataframe tbody tr th {\n",
       "        vertical-align: top;\n",
       "    }\n",
       "\n",
       "    .dataframe thead th {\n",
       "        text-align: right;\n",
       "    }\n",
       "</style>\n",
       "<table border=\"1\" class=\"dataframe\">\n",
       "  <thead>\n",
       "    <tr style=\"text-align: right;\">\n",
       "      <th></th>\n",
       "      <th>host_id</th>\n",
       "      <th>name</th>\n",
       "      <th>description</th>\n",
       "      <th>host_name</th>\n",
       "      <th>host_since</th>\n",
       "      <th>host_location</th>\n",
       "      <th>host_response_time</th>\n",
       "      <th>host_response_rate</th>\n",
       "      <th>host_acceptance_rate</th>\n",
       "      <th>host_is_superhost</th>\n",
       "      <th>...</th>\n",
       "      <th>number_of_reviews</th>\n",
       "      <th>first_review</th>\n",
       "      <th>last_review</th>\n",
       "      <th>review_scores_rating</th>\n",
       "      <th>review_scores_accuracy</th>\n",
       "      <th>review_scores_cleanliness</th>\n",
       "      <th>review_scores_checkin</th>\n",
       "      <th>review_scores_communication</th>\n",
       "      <th>review_scores_location</th>\n",
       "      <th>review_scores_value</th>\n",
       "    </tr>\n",
       "  </thead>\n",
       "  <tbody>\n",
       "    <tr>\n",
       "      <th>3764</th>\n",
       "      <td>52840596</td>\n",
       "      <td>Stunning 3 Bedroom Apartment in South London</td>\n",
       "      <td>our beautiful   bed and breakfastroom property...</td>\n",
       "      <td>Emma</td>\n",
       "      <td>31-12-15</td>\n",
       "      <td>London</td>\n",
       "      <td>within an hour</td>\n",
       "      <td>100%</td>\n",
       "      <td>100%</td>\n",
       "      <td>False</td>\n",
       "      <td>...</td>\n",
       "      <td>28</td>\n",
       "      <td>04-10-18</td>\n",
       "      <td>23-02-20</td>\n",
       "      <td>4.93</td>\n",
       "      <td>4.89</td>\n",
       "      <td>4.96</td>\n",
       "      <td>4.82</td>\n",
       "      <td>4.86</td>\n",
       "      <td>4.75</td>\n",
       "      <td>4.79</td>\n",
       "    </tr>\n",
       "    <tr>\n",
       "      <th>4696</th>\n",
       "      <td>25437413</td>\n",
       "      <td>Private bed and breakfastroom in 3 bed and bre...</td>\n",
       "      <td>a cosy  comfortable and bright house  great lo...</td>\n",
       "      <td>Fiona</td>\n",
       "      <td>31-12-14</td>\n",
       "      <td>London</td>\n",
       "      <td>within an hour</td>\n",
       "      <td>100%</td>\n",
       "      <td>67%</td>\n",
       "      <td>False</td>\n",
       "      <td>...</td>\n",
       "      <td>4</td>\n",
       "      <td>16-10-19</td>\n",
       "      <td>17-08-22</td>\n",
       "      <td>5.00</td>\n",
       "      <td>5.00</td>\n",
       "      <td>5.00</td>\n",
       "      <td>5.00</td>\n",
       "      <td>5.00</td>\n",
       "      <td>4.75</td>\n",
       "      <td>4.75</td>\n",
       "    </tr>\n",
       "    <tr>\n",
       "      <th>1861</th>\n",
       "      <td>4536472</td>\n",
       "      <td>Fashionable quiet 1 bed and breakfastroom flat...</td>\n",
       "      <td>my flat is close to to brockwell park  a   min...</td>\n",
       "      <td>Stephanie</td>\n",
       "      <td>31-12-12</td>\n",
       "      <td>London</td>\n",
       "      <td>within a day</td>\n",
       "      <td>80%</td>\n",
       "      <td>68%</td>\n",
       "      <td>False</td>\n",
       "      <td>...</td>\n",
       "      <td>45</td>\n",
       "      <td>14-06-16</td>\n",
       "      <td>22-08-22</td>\n",
       "      <td>4.77</td>\n",
       "      <td>4.83</td>\n",
       "      <td>4.76</td>\n",
       "      <td>5.00</td>\n",
       "      <td>4.98</td>\n",
       "      <td>4.56</td>\n",
       "      <td>4.77</td>\n",
       "    </tr>\n",
       "    <tr>\n",
       "      <th>7000</th>\n",
       "      <td>429799763</td>\n",
       "      <td>Stylish 2 Bedroom Riverside Townhouse</td>\n",
       "      <td>enjoy a stay at our beautiful  modern   bed an...</td>\n",
       "      <td>Cat</td>\n",
       "      <td>31-10-21</td>\n",
       "      <td>London</td>\n",
       "      <td>within an hour</td>\n",
       "      <td>100%</td>\n",
       "      <td>100%</td>\n",
       "      <td>False</td>\n",
       "      <td>...</td>\n",
       "      <td>3</td>\n",
       "      <td>17-07-22</td>\n",
       "      <td>31-07-22</td>\n",
       "      <td>4.33</td>\n",
       "      <td>3.67</td>\n",
       "      <td>5.00</td>\n",
       "      <td>4.33</td>\n",
       "      <td>4.67</td>\n",
       "      <td>4.33</td>\n",
       "      <td>4.33</td>\n",
       "    </tr>\n",
       "    <tr>\n",
       "      <th>3018</th>\n",
       "      <td>156890619</td>\n",
       "      <td>Double room in Kensal Rise, South facing.</td>\n",
       "      <td>kensal rise has loads of great cafes  bars and...</td>\n",
       "      <td>Andrew</td>\n",
       "      <td>31-10-17</td>\n",
       "      <td>London</td>\n",
       "      <td>within a day</td>\n",
       "      <td>50%</td>\n",
       "      <td>19%</td>\n",
       "      <td>False</td>\n",
       "      <td>...</td>\n",
       "      <td>23</td>\n",
       "      <td>21-01-18</td>\n",
       "      <td>30-11-21</td>\n",
       "      <td>4.59</td>\n",
       "      <td>4.64</td>\n",
       "      <td>4.18</td>\n",
       "      <td>4.77</td>\n",
       "      <td>4.59</td>\n",
       "      <td>4.77</td>\n",
       "      <td>4.59</td>\n",
       "    </tr>\n",
       "  </tbody>\n",
       "</table>\n",
       "<p>5 rows × 34 columns</p>\n",
       "</div>"
      ],
      "text/plain": [
       "        host_id                                               name  \\\n",
       "3764   52840596       Stunning 3 Bedroom Apartment in South London   \n",
       "4696   25437413  Private bed and breakfastroom in 3 bed and bre...   \n",
       "1861    4536472  Fashionable quiet 1 bed and breakfastroom flat...   \n",
       "7000  429799763              Stylish 2 Bedroom Riverside Townhouse   \n",
       "3018  156890619          Double room in Kensal Rise, South facing.   \n",
       "\n",
       "                                            description  host_name host_since  \\\n",
       "3764  our beautiful   bed and breakfastroom property...       Emma   31-12-15   \n",
       "4696  a cosy  comfortable and bright house  great lo...      Fiona   31-12-14   \n",
       "1861  my flat is close to to brockwell park  a   min...  Stephanie   31-12-12   \n",
       "7000  enjoy a stay at our beautiful  modern   bed an...        Cat   31-10-21   \n",
       "3018  kensal rise has loads of great cafes  bars and...     Andrew   31-10-17   \n",
       "\n",
       "     host_location host_response_time host_response_rate host_acceptance_rate  \\\n",
       "3764        London     within an hour               100%                 100%   \n",
       "4696        London     within an hour               100%                  67%   \n",
       "1861        London       within a day                80%                  68%   \n",
       "7000        London     within an hour               100%                 100%   \n",
       "3018        London       within a day                50%                  19%   \n",
       "\n",
       "      host_is_superhost  ...  number_of_reviews first_review  last_review  \\\n",
       "3764              False  ...                 28     04-10-18     23-02-20   \n",
       "4696              False  ...                  4     16-10-19     17-08-22   \n",
       "1861              False  ...                 45     14-06-16     22-08-22   \n",
       "7000              False  ...                  3     17-07-22     31-07-22   \n",
       "3018              False  ...                 23     21-01-18     30-11-21   \n",
       "\n",
       "     review_scores_rating review_scores_accuracy  review_scores_cleanliness  \\\n",
       "3764                 4.93                   4.89                       4.96   \n",
       "4696                 5.00                   5.00                       5.00   \n",
       "1861                 4.77                   4.83                       4.76   \n",
       "7000                 4.33                   3.67                       5.00   \n",
       "3018                 4.59                   4.64                       4.18   \n",
       "\n",
       "     review_scores_checkin  review_scores_communication  \\\n",
       "3764                  4.82                         4.86   \n",
       "4696                  5.00                         5.00   \n",
       "1861                  5.00                         4.98   \n",
       "7000                  4.33                         4.67   \n",
       "3018                  4.77                         4.59   \n",
       "\n",
       "      review_scores_location review_scores_value  \n",
       "3764                    4.75                4.79  \n",
       "4696                    4.75                4.75  \n",
       "1861                    4.56                4.77  \n",
       "7000                    4.33                4.33  \n",
       "3018                    4.77                4.59  \n",
       "\n",
       "[5 rows x 34 columns]"
      ]
     },
     "execution_count": 5,
     "metadata": {},
     "output_type": "execute_result"
    }
   ],
   "source": [
    "data.sort_values(by = ['host_since'], inplace =False, ascending=False).head()"
   ]
  },
  {
   "cell_type": "code",
   "execution_count": 6,
   "id": "2efcc23b",
   "metadata": {},
   "outputs": [
    {
     "ename": "SyntaxError",
     "evalue": "Python keyword not valid identifier in numexpr query (<unknown>, line 1)",
     "output_type": "error",
     "traceback": [
      "Traceback \u001B[1;36m(most recent call last)\u001B[0m:\n",
      "  File \u001B[0;32m\"C:\\ProgramData\\Anaconda3\\lib\\site-packages\\IPython\\core\\interactiveshell.py\"\u001B[0m, line \u001B[0;32m3457\u001B[0m, in \u001B[0;35mrun_code\u001B[0m\n    exec(code_obj, self.user_global_ns, self.user_ns)\n",
      "  File \u001B[0;32m\"C:\\Users\\Khadi\\AppData\\Local\\Temp\\ipykernel_24120\\3727496801.py\"\u001B[0m, line \u001B[0;32m1\u001B[0m, in \u001B[0;35m<module>\u001B[0m\n    data.query(\"host_since >= 01-01-2019 & host_since <= 01-01-2022 \")\n",
      "  File \u001B[0;32m\"C:\\ProgramData\\Anaconda3\\lib\\site-packages\\pandas\\core\\frame.py\"\u001B[0m, line \u001B[0;32m4111\u001B[0m, in \u001B[0;35mquery\u001B[0m\n    res = self.eval(expr, **kwargs)\n",
      "  File \u001B[0;32m\"C:\\ProgramData\\Anaconda3\\lib\\site-packages\\pandas\\core\\frame.py\"\u001B[0m, line \u001B[0;32m4240\u001B[0m, in \u001B[0;35meval\u001B[0m\n    return _eval(expr, inplace=inplace, **kwargs)\n",
      "  File \u001B[0;32m\"C:\\ProgramData\\Anaconda3\\lib\\site-packages\\pandas\\core\\computation\\eval.py\"\u001B[0m, line \u001B[0;32m351\u001B[0m, in \u001B[0;35meval\u001B[0m\n    parsed_expr = Expr(expr, engine=engine, parser=parser, env=env)\n",
      "  File \u001B[0;32m\"C:\\ProgramData\\Anaconda3\\lib\\site-packages\\pandas\\core\\computation\\expr.py\"\u001B[0m, line \u001B[0;32m811\u001B[0m, in \u001B[0;35m__init__\u001B[0m\n    self.terms = self.parse()\n",
      "  File \u001B[0;32m\"C:\\ProgramData\\Anaconda3\\lib\\site-packages\\pandas\\core\\computation\\expr.py\"\u001B[0m, line \u001B[0;32m830\u001B[0m, in \u001B[0;35mparse\u001B[0m\n    return self._visitor.visit(self.expr)\n",
      "  File \u001B[0;32m\"C:\\ProgramData\\Anaconda3\\lib\\site-packages\\pandas\\core\\computation\\expr.py\"\u001B[0m, line \u001B[0;32m411\u001B[0m, in \u001B[0;35mvisit\u001B[0m\n    raise e\n",
      "  File \u001B[0;32m\"C:\\ProgramData\\Anaconda3\\lib\\site-packages\\pandas\\core\\computation\\expr.py\"\u001B[0m, line \u001B[0;32m407\u001B[0m, in \u001B[0;35mvisit\u001B[0m\n    node = ast.fix_missing_locations(ast.parse(clean))\n",
      "\u001B[1;36m  File \u001B[1;32m\"C:\\ProgramData\\Anaconda3\\lib\\ast.py\"\u001B[1;36m, line \u001B[1;32m50\u001B[1;36m, in \u001B[1;35mparse\u001B[1;36m\u001B[0m\n\u001B[1;33m    return compile(source, filename, mode, flags,\u001B[0m\n",
      "\u001B[1;36m  File \u001B[1;32m\"<unknown>\"\u001B[1;36m, line \u001B[1;32m1\u001B[0m\n\u001B[1;33m    host_since >=0 1 -0 1 -2019 and host_since <=0 1 -0 1 -2022\u001B[0m\n\u001B[1;37m                   ^\u001B[0m\n\u001B[1;31mSyntaxError\u001B[0m\u001B[1;31m:\u001B[0m Python keyword not valid identifier in numexpr query\n"
     ]
    }
   ],
   "source": [
    "data.query(\"host_since >= 01-01-2019 & host_since <= 01-01-2022 \")"
   ]
  },
  {
   "cell_type": "code",
   "execution_count": null,
   "id": "5ca8b016",
   "metadata": {},
   "outputs": [],
   "source": [
    "filter_price_year = price_year.loc[lambda x : x > 2019 & x < 2022]"
   ]
  },
  {
   "cell_type": "code",
   "execution_count": null,
   "id": "9a2e36d9",
   "metadata": {},
   "outputs": [],
   "source": [
    "data.groupby('host_since')['price']"
   ]
  },
  {
   "cell_type": "code",
   "execution_count": null,
   "id": "d722d11c",
   "metadata": {},
   "outputs": [],
   "source": []
  }
 ],
 "metadata": {
  "kernelspec": {
   "display_name": "Python 3 (ipykernel)",
   "language": "python",
   "name": "python3"
  },
  "language_info": {
   "codemirror_mode": {
    "name": "ipython",
    "version": 3
   },
   "file_extension": ".py",
   "mimetype": "text/x-python",
   "name": "python",
   "nbconvert_exporter": "python",
   "pygments_lexer": "ipython3",
   "version": "3.9.13"
  }
 },
 "nbformat": 4,
 "nbformat_minor": 5
}
