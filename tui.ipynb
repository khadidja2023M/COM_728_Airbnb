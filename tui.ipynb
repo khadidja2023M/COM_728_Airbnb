{
 "cells": [
  {
   "cell_type": "code",
   "execution_count": null,
   "id": "1230eb34",
   "metadata": {},
   "outputs": [],
   "source": [
    "#tui module\n",
    "\n",
    "#create a starting function that will indicate the start of the programme\n",
    "def started(msg=\"\"):  \n",
    "    dashes=('#')*75\n",
    "    print(dashes)\n",
    "    print(f\"Operation started: {msg}...\\n\")\n",
    "    \n",
    "#create a completed function that will indicate the end of the programme    \n",
    "def completed():\n",
    "   \n",
    "    print(\"Operation completed.\")\n",
    "    dashes=('#')*75\n",
    "    print(dashes)\n",
    "    \n",
    "#create menu function that will allow the user to retreive data \n",
    "def menu():\n",
    "    \n",
    "    print(f\"\"\"select which menu whoud you like:\n",
    "    \n",
    "    {\"[1]\":<6}:List name of listing, host name, description, host location, host since by host id.\\n \n",
    "    \n",
    "    {\"[2]\":<6}:List host name, property type, price, minimum_nights and maximum_nights by location.\\n\n",
    "    \n",
    "    {\"[3]\":<6}:List room type, accommodates, bathrooms, bedroom and beds for a specified property type.\\n\n",
    "    \n",
    "    {\"[4]\":<6}:List review scores of cleanliness, checkin, communication and rating by location.\\n                 \n",
    "    \n",
    "    {\"[exit]\":<6}:Exit the programme.\n",
    "    \"\"\")\n",
    "          \n",
    "      \n",
    "    menu_selection=input('your selection: ')\n",
    "    return menu_selection.strip().lower() \n",
    "          \n",
    "\n",
    "#error function\n",
    "def error():  \n",
    "        print(\"Invalid Selection!\")\n",
    "\n",
    "#this function display the results of the function listing by id in the process module as a dictionnary.       \n",
    "def display_listing_by_id(ID):\n",
    "    print(f\"host_name:{ID['host_name']}\\ndescription:{ID['description']}\\nhost_location:{ID['location']}\\nhost_since:{ID['host_since']}\")\n",
    "    \n",
    "#this function display the results of the function listing for specified location in the process module as a dictionnary.       \n",
    "def display_listing_for_specified_location(location):\n",
    "    print(f\"host name:{location[0]}\\nproperty type:{location[1]}\\nprice:{location[2]}\\nminimum nights:{location[3]}\\nmaximum nights:{location[4]}\") \n",
    "    \n",
    "#this function display the results of the function listing by property type in the process module as a dictionnary.   \n",
    "def display_listing_by_property_type(property_type):\n",
    "    print(f\"room type:{property_type['room_type']}\\naccomodates:{property_type['accomodates']}\\nbathrooms:{property_type['bathrooms']}\\nbedroom:{property_type['bedroom']}\\nbeds:{property_type['beds']}\")                             \n",
    "#this function display the results of the function listing by location in the process module as a dictionnary.                \n",
    "def display_listing_by_location(Location):\n",
    "    print(f\"review_scores_cleanliness:{Location[0]}\\nreview_scores_communication:{Location[1]}\\nreview_scores_checkin:{Location[2]}\\nreview_scores_rating:{Location[3]}\") \n",
    "                    \n"
   ]
  }
 ],
 "metadata": {
  "kernelspec": {
   "display_name": "Python 3 (ipykernel)",
   "language": "python",
   "name": "python3"
  },
  "language_info": {
   "codemirror_mode": {
    "name": "ipython",
    "version": 3
   },
   "file_extension": ".py",
   "mimetype": "text/x-python",
   "name": "python",
   "nbconvert_exporter": "python",
   "pygments_lexer": "ipython3",
   "version": "3.9.13"
  }
 },
 "nbformat": 4,
 "nbformat_minor": 5
}
